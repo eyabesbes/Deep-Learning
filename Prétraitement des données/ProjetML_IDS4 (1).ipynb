{
  "cells": [
    {
      "cell_type": "markdown",
      "metadata": {
        "id": "K9pToL9Q12nD"
      },
      "source": [
        "# Projet_ML\n",
        "## 2022-2023\n",
        "---"
      ]
    },
    {
      "cell_type": "markdown",
      "metadata": {
        "id": "jVYg9ChI2FiV"
      },
      "source": [
        "### **Nom & Prénom des étudiants : Mayssa Hemdana ;  Eya Besbes**\n",
        "---"
      ]
    },
    {
      "cell_type": "markdown",
      "metadata": {
        "id": "Gi780LjV2UEU"
      },
      "source": [
        "**Importation des bibliothèques**"
      ]
    },
    {
      "cell_type": "code",
      "execution_count": null,
      "metadata": {
        "id": "-uIjAWAX10Yu"
      },
      "outputs": [],
      "source": [
        "import pandas as pd\n",
        "import seaborn as sns\n",
        "import matplotlib.pyplot as plt\n",
        "from sklearn.preprocessing import OrdinalEncoder\n",
        "from sklearn.preprocessing import LabelEncoder\n",
        "import numpy as np\n",
        "from imblearn.over_sampling import RandomOverSampler"
      ]
    },
    {
      "cell_type": "markdown",
      "metadata": {
        "id": "oFCYdVc72uiM"
      },
      "source": [
        "**Assemblage Google Drive dans Colaboratory**"
      ]
    },
    {
      "cell_type": "code",
      "execution_count": null,
      "metadata": {
        "id": "nTZCmIPS2z8V"
      },
      "outputs": [],
      "source": [
        "train=pd.read_csv(\"/content/sample_data/train_Insurance.csv\")\n",
        "test=pd.read_csv(\"/content/sample_data/test_Insurance.csv\")"
      ]
    },
    {
      "cell_type": "markdown",
      "metadata": {
        "id": "RTWqEDO13sm6"
      },
      "source": [
        "**Lecture des fichiers *train_Insurance.csv* & *test_Insurance.csv***\n"
      ]
    },
    {
      "cell_type": "code",
      "execution_count": null,
      "metadata": {
        "id": "t6wEywm83yjd",
        "colab": {
          "base_uri": "https://localhost:8080/",
          "height": 537
        },
        "outputId": "d66ccd25-75eb-4f2e-bf8b-0eb35dada230"
      },
      "outputs": [
        {
          "output_type": "execute_result",
          "data": {
            "text/plain": [
              "     Customer Id  YearOfObservation  Insured_Period  Residential  \\\n",
              "0         H13501               2012             1.0            1   \n",
              "1         H14962               2012             1.0            0   \n",
              "2         H17755               2013             1.0            1   \n",
              "3         H13369               2016             0.5            0   \n",
              "4         H12988               2012             1.0            0   \n",
              "...          ...                ...             ...          ...   \n",
              "5007      H13682               2013             1.0            0   \n",
              "5008      H18342               2012             0.5            0   \n",
              "5009      H16892               2015             1.0            1   \n",
              "5010      H18805               2012             0.5            0   \n",
              "5011      H18228               2013             1.0            1   \n",
              "\n",
              "     Building_Painted Building_Fenced Garden Settlement  Building Dimension  \\\n",
              "0                   N               V      V          U              1240.0   \n",
              "1                   N               V      V          U               900.0   \n",
              "2                   V               N      O          R              4984.0   \n",
              "3                   N               V      V          U               600.0   \n",
              "4                   N               V      V          U               900.0   \n",
              "...               ...             ...    ...        ...                 ...   \n",
              "5007                N               V      V          U               550.0   \n",
              "5008                V               N      O          R              1000.0   \n",
              "5009                V               N      O          R               480.0   \n",
              "5010                V               N      O          R               536.0   \n",
              "5011                V               V      V          U                 NaN   \n",
              "\n",
              "        Building_Type NumberOfWindows Geo_Code Claim  \n",
              "0         Wood-framed         without    75117   non  \n",
              "1     Non-combustible         without    62916   non  \n",
              "2     Non-combustible               4    31149   oui  \n",
              "3         Wood-framed         without     6012   oui  \n",
              "4     Non-combustible         without    57631   non  \n",
              "...               ...             ...      ...   ...  \n",
              "5007         Ordinary         without    33063   oui  \n",
              "5008   Fire-resistive               4    13004   non  \n",
              "5009         Ordinary               3    94059   non  \n",
              "5010   Fire-resistive               4    74243   non  \n",
              "5011      Wood-framed         without      NaN   non  \n",
              "\n",
              "[5012 rows x 13 columns]"
            ],
            "text/html": [
              "\n",
              "  <div id=\"df-8fe60134-4bde-4b4b-95ca-883a0f4d1979\">\n",
              "    <div class=\"colab-df-container\">\n",
              "      <div>\n",
              "<style scoped>\n",
              "    .dataframe tbody tr th:only-of-type {\n",
              "        vertical-align: middle;\n",
              "    }\n",
              "\n",
              "    .dataframe tbody tr th {\n",
              "        vertical-align: top;\n",
              "    }\n",
              "\n",
              "    .dataframe thead th {\n",
              "        text-align: right;\n",
              "    }\n",
              "</style>\n",
              "<table border=\"1\" class=\"dataframe\">\n",
              "  <thead>\n",
              "    <tr style=\"text-align: right;\">\n",
              "      <th></th>\n",
              "      <th>Customer Id</th>\n",
              "      <th>YearOfObservation</th>\n",
              "      <th>Insured_Period</th>\n",
              "      <th>Residential</th>\n",
              "      <th>Building_Painted</th>\n",
              "      <th>Building_Fenced</th>\n",
              "      <th>Garden</th>\n",
              "      <th>Settlement</th>\n",
              "      <th>Building Dimension</th>\n",
              "      <th>Building_Type</th>\n",
              "      <th>NumberOfWindows</th>\n",
              "      <th>Geo_Code</th>\n",
              "      <th>Claim</th>\n",
              "    </tr>\n",
              "  </thead>\n",
              "  <tbody>\n",
              "    <tr>\n",
              "      <th>0</th>\n",
              "      <td>H13501</td>\n",
              "      <td>2012</td>\n",
              "      <td>1.0</td>\n",
              "      <td>1</td>\n",
              "      <td>N</td>\n",
              "      <td>V</td>\n",
              "      <td>V</td>\n",
              "      <td>U</td>\n",
              "      <td>1240.0</td>\n",
              "      <td>Wood-framed</td>\n",
              "      <td>without</td>\n",
              "      <td>75117</td>\n",
              "      <td>non</td>\n",
              "    </tr>\n",
              "    <tr>\n",
              "      <th>1</th>\n",
              "      <td>H14962</td>\n",
              "      <td>2012</td>\n",
              "      <td>1.0</td>\n",
              "      <td>0</td>\n",
              "      <td>N</td>\n",
              "      <td>V</td>\n",
              "      <td>V</td>\n",
              "      <td>U</td>\n",
              "      <td>900.0</td>\n",
              "      <td>Non-combustible</td>\n",
              "      <td>without</td>\n",
              "      <td>62916</td>\n",
              "      <td>non</td>\n",
              "    </tr>\n",
              "    <tr>\n",
              "      <th>2</th>\n",
              "      <td>H17755</td>\n",
              "      <td>2013</td>\n",
              "      <td>1.0</td>\n",
              "      <td>1</td>\n",
              "      <td>V</td>\n",
              "      <td>N</td>\n",
              "      <td>O</td>\n",
              "      <td>R</td>\n",
              "      <td>4984.0</td>\n",
              "      <td>Non-combustible</td>\n",
              "      <td>4</td>\n",
              "      <td>31149</td>\n",
              "      <td>oui</td>\n",
              "    </tr>\n",
              "    <tr>\n",
              "      <th>3</th>\n",
              "      <td>H13369</td>\n",
              "      <td>2016</td>\n",
              "      <td>0.5</td>\n",
              "      <td>0</td>\n",
              "      <td>N</td>\n",
              "      <td>V</td>\n",
              "      <td>V</td>\n",
              "      <td>U</td>\n",
              "      <td>600.0</td>\n",
              "      <td>Wood-framed</td>\n",
              "      <td>without</td>\n",
              "      <td>6012</td>\n",
              "      <td>oui</td>\n",
              "    </tr>\n",
              "    <tr>\n",
              "      <th>4</th>\n",
              "      <td>H12988</td>\n",
              "      <td>2012</td>\n",
              "      <td>1.0</td>\n",
              "      <td>0</td>\n",
              "      <td>N</td>\n",
              "      <td>V</td>\n",
              "      <td>V</td>\n",
              "      <td>U</td>\n",
              "      <td>900.0</td>\n",
              "      <td>Non-combustible</td>\n",
              "      <td>without</td>\n",
              "      <td>57631</td>\n",
              "      <td>non</td>\n",
              "    </tr>\n",
              "    <tr>\n",
              "      <th>...</th>\n",
              "      <td>...</td>\n",
              "      <td>...</td>\n",
              "      <td>...</td>\n",
              "      <td>...</td>\n",
              "      <td>...</td>\n",
              "      <td>...</td>\n",
              "      <td>...</td>\n",
              "      <td>...</td>\n",
              "      <td>...</td>\n",
              "      <td>...</td>\n",
              "      <td>...</td>\n",
              "      <td>...</td>\n",
              "      <td>...</td>\n",
              "    </tr>\n",
              "    <tr>\n",
              "      <th>5007</th>\n",
              "      <td>H13682</td>\n",
              "      <td>2013</td>\n",
              "      <td>1.0</td>\n",
              "      <td>0</td>\n",
              "      <td>N</td>\n",
              "      <td>V</td>\n",
              "      <td>V</td>\n",
              "      <td>U</td>\n",
              "      <td>550.0</td>\n",
              "      <td>Ordinary</td>\n",
              "      <td>without</td>\n",
              "      <td>33063</td>\n",
              "      <td>oui</td>\n",
              "    </tr>\n",
              "    <tr>\n",
              "      <th>5008</th>\n",
              "      <td>H18342</td>\n",
              "      <td>2012</td>\n",
              "      <td>0.5</td>\n",
              "      <td>0</td>\n",
              "      <td>V</td>\n",
              "      <td>N</td>\n",
              "      <td>O</td>\n",
              "      <td>R</td>\n",
              "      <td>1000.0</td>\n",
              "      <td>Fire-resistive</td>\n",
              "      <td>4</td>\n",
              "      <td>13004</td>\n",
              "      <td>non</td>\n",
              "    </tr>\n",
              "    <tr>\n",
              "      <th>5009</th>\n",
              "      <td>H16892</td>\n",
              "      <td>2015</td>\n",
              "      <td>1.0</td>\n",
              "      <td>1</td>\n",
              "      <td>V</td>\n",
              "      <td>N</td>\n",
              "      <td>O</td>\n",
              "      <td>R</td>\n",
              "      <td>480.0</td>\n",
              "      <td>Ordinary</td>\n",
              "      <td>3</td>\n",
              "      <td>94059</td>\n",
              "      <td>non</td>\n",
              "    </tr>\n",
              "    <tr>\n",
              "      <th>5010</th>\n",
              "      <td>H18805</td>\n",
              "      <td>2012</td>\n",
              "      <td>0.5</td>\n",
              "      <td>0</td>\n",
              "      <td>V</td>\n",
              "      <td>N</td>\n",
              "      <td>O</td>\n",
              "      <td>R</td>\n",
              "      <td>536.0</td>\n",
              "      <td>Fire-resistive</td>\n",
              "      <td>4</td>\n",
              "      <td>74243</td>\n",
              "      <td>non</td>\n",
              "    </tr>\n",
              "    <tr>\n",
              "      <th>5011</th>\n",
              "      <td>H18228</td>\n",
              "      <td>2013</td>\n",
              "      <td>1.0</td>\n",
              "      <td>1</td>\n",
              "      <td>V</td>\n",
              "      <td>V</td>\n",
              "      <td>V</td>\n",
              "      <td>U</td>\n",
              "      <td>NaN</td>\n",
              "      <td>Wood-framed</td>\n",
              "      <td>without</td>\n",
              "      <td>NaN</td>\n",
              "      <td>non</td>\n",
              "    </tr>\n",
              "  </tbody>\n",
              "</table>\n",
              "<p>5012 rows × 13 columns</p>\n",
              "</div>\n",
              "      <button class=\"colab-df-convert\" onclick=\"convertToInteractive('df-8fe60134-4bde-4b4b-95ca-883a0f4d1979')\"\n",
              "              title=\"Convert this dataframe to an interactive table.\"\n",
              "              style=\"display:none;\">\n",
              "        \n",
              "  <svg xmlns=\"http://www.w3.org/2000/svg\" height=\"24px\"viewBox=\"0 0 24 24\"\n",
              "       width=\"24px\">\n",
              "    <path d=\"M0 0h24v24H0V0z\" fill=\"none\"/>\n",
              "    <path d=\"M18.56 5.44l.94 2.06.94-2.06 2.06-.94-2.06-.94-.94-2.06-.94 2.06-2.06.94zm-11 1L8.5 8.5l.94-2.06 2.06-.94-2.06-.94L8.5 2.5l-.94 2.06-2.06.94zm10 10l.94 2.06.94-2.06 2.06-.94-2.06-.94-.94-2.06-.94 2.06-2.06.94z\"/><path d=\"M17.41 7.96l-1.37-1.37c-.4-.4-.92-.59-1.43-.59-.52 0-1.04.2-1.43.59L10.3 9.45l-7.72 7.72c-.78.78-.78 2.05 0 2.83L4 21.41c.39.39.9.59 1.41.59.51 0 1.02-.2 1.41-.59l7.78-7.78 2.81-2.81c.8-.78.8-2.07 0-2.86zM5.41 20L4 18.59l7.72-7.72 1.47 1.35L5.41 20z\"/>\n",
              "  </svg>\n",
              "      </button>\n",
              "      \n",
              "  <style>\n",
              "    .colab-df-container {\n",
              "      display:flex;\n",
              "      flex-wrap:wrap;\n",
              "      gap: 12px;\n",
              "    }\n",
              "\n",
              "    .colab-df-convert {\n",
              "      background-color: #E8F0FE;\n",
              "      border: none;\n",
              "      border-radius: 50%;\n",
              "      cursor: pointer;\n",
              "      display: none;\n",
              "      fill: #1967D2;\n",
              "      height: 32px;\n",
              "      padding: 0 0 0 0;\n",
              "      width: 32px;\n",
              "    }\n",
              "\n",
              "    .colab-df-convert:hover {\n",
              "      background-color: #E2EBFA;\n",
              "      box-shadow: 0px 1px 2px rgba(60, 64, 67, 0.3), 0px 1px 3px 1px rgba(60, 64, 67, 0.15);\n",
              "      fill: #174EA6;\n",
              "    }\n",
              "\n",
              "    [theme=dark] .colab-df-convert {\n",
              "      background-color: #3B4455;\n",
              "      fill: #D2E3FC;\n",
              "    }\n",
              "\n",
              "    [theme=dark] .colab-df-convert:hover {\n",
              "      background-color: #434B5C;\n",
              "      box-shadow: 0px 1px 3px 1px rgba(0, 0, 0, 0.15);\n",
              "      filter: drop-shadow(0px 1px 2px rgba(0, 0, 0, 0.3));\n",
              "      fill: #FFFFFF;\n",
              "    }\n",
              "  </style>\n",
              "\n",
              "      <script>\n",
              "        const buttonEl =\n",
              "          document.querySelector('#df-8fe60134-4bde-4b4b-95ca-883a0f4d1979 button.colab-df-convert');\n",
              "        buttonEl.style.display =\n",
              "          google.colab.kernel.accessAllowed ? 'block' : 'none';\n",
              "\n",
              "        async function convertToInteractive(key) {\n",
              "          const element = document.querySelector('#df-8fe60134-4bde-4b4b-95ca-883a0f4d1979');\n",
              "          const dataTable =\n",
              "            await google.colab.kernel.invokeFunction('convertToInteractive',\n",
              "                                                     [key], {});\n",
              "          if (!dataTable) return;\n",
              "\n",
              "          const docLinkHtml = 'Like what you see? Visit the ' +\n",
              "            '<a target=\"_blank\" href=https://colab.research.google.com/notebooks/data_table.ipynb>data table notebook</a>'\n",
              "            + ' to learn more about interactive tables.';\n",
              "          element.innerHTML = '';\n",
              "          dataTable['output_type'] = 'display_data';\n",
              "          await google.colab.output.renderOutput(dataTable, element);\n",
              "          const docLink = document.createElement('div');\n",
              "          docLink.innerHTML = docLinkHtml;\n",
              "          element.appendChild(docLink);\n",
              "        }\n",
              "      </script>\n",
              "    </div>\n",
              "  </div>\n",
              "  "
            ]
          },
          "metadata": {},
          "execution_count": 146
        }
      ],
      "source": [
        "train"
      ]
    },
    {
      "cell_type": "code",
      "execution_count": null,
      "metadata": {
        "id": "Er9NDCY57kV0",
        "colab": {
          "base_uri": "https://localhost:8080/",
          "height": 571
        },
        "outputId": "6cde12a1-a1f9-46c7-a6b3-4f2171df8ea8"
      },
      "outputs": [
        {
          "output_type": "execute_result",
          "data": {
            "text/plain": [
              "     Customer Id  YearOfObservation  Insured_Period  Residential  \\\n",
              "0          H3733               2013             1.0            0   \n",
              "1         H16909               2015             1.0            0   \n",
              "2         H16867               2013             1.0            1   \n",
              "3         H14813               2015             1.0            0   \n",
              "4          H3728               2016             0.5            0   \n",
              "...          ...                ...             ...          ...   \n",
              "2142      H19924               2016             0.5            1   \n",
              "2143      H17249               2012             1.0            0   \n",
              "2144      H18804               2014             1.0            0   \n",
              "2145      H12650               2014             1.0            1   \n",
              "2146      H13879               2013             0.5            0   \n",
              "\n",
              "     Building_Painted Building_Fenced Garden Settlement  Building Dimension  \\\n",
              "0                   V               V      V          U              3760.0   \n",
              "1                   V               N      O          R              1452.0   \n",
              "2                   V               N      O          R              1944.0   \n",
              "3                   N               V      V          U              2270.0   \n",
              "4                   V               N      O          R              2976.0   \n",
              "...               ...             ...    ...        ...                 ...   \n",
              "2142                V               N      O          R               862.0   \n",
              "2143                V               V      V          U                 NaN   \n",
              "2144                V               N      O          R               730.0   \n",
              "2145                N               V      V          U               568.0   \n",
              "2146                N               V      V          U               730.0   \n",
              "\n",
              "        Building_Type NumberOfWindows Geo_Code Claim  \n",
              "0      Fire-resistive         without    43157   oui  \n",
              "1      Fire-resistive               5    58194   non  \n",
              "2            Ordinary               6    92050   oui  \n",
              "3     Non-combustible         without    13209   oui  \n",
              "4      Fire-resistive               9     5177   non  \n",
              "...               ...             ...      ...   ...  \n",
              "2142      Wood-framed               2     6159   non  \n",
              "2143  Non-combustible         without      NaN   non  \n",
              "2144  Non-combustible               3    69027   non  \n",
              "2145  Non-combustible         without    69091   oui  \n",
              "2146  Non-combustible         without    90010   non  \n",
              "\n",
              "[2147 rows x 13 columns]"
            ],
            "text/html": [
              "\n",
              "  <div id=\"df-535724e5-328b-4eed-8af6-8a6356914d5d\">\n",
              "    <div class=\"colab-df-container\">\n",
              "      <div>\n",
              "<style scoped>\n",
              "    .dataframe tbody tr th:only-of-type {\n",
              "        vertical-align: middle;\n",
              "    }\n",
              "\n",
              "    .dataframe tbody tr th {\n",
              "        vertical-align: top;\n",
              "    }\n",
              "\n",
              "    .dataframe thead th {\n",
              "        text-align: right;\n",
              "    }\n",
              "</style>\n",
              "<table border=\"1\" class=\"dataframe\">\n",
              "  <thead>\n",
              "    <tr style=\"text-align: right;\">\n",
              "      <th></th>\n",
              "      <th>Customer Id</th>\n",
              "      <th>YearOfObservation</th>\n",
              "      <th>Insured_Period</th>\n",
              "      <th>Residential</th>\n",
              "      <th>Building_Painted</th>\n",
              "      <th>Building_Fenced</th>\n",
              "      <th>Garden</th>\n",
              "      <th>Settlement</th>\n",
              "      <th>Building Dimension</th>\n",
              "      <th>Building_Type</th>\n",
              "      <th>NumberOfWindows</th>\n",
              "      <th>Geo_Code</th>\n",
              "      <th>Claim</th>\n",
              "    </tr>\n",
              "  </thead>\n",
              "  <tbody>\n",
              "    <tr>\n",
              "      <th>0</th>\n",
              "      <td>H3733</td>\n",
              "      <td>2013</td>\n",
              "      <td>1.0</td>\n",
              "      <td>0</td>\n",
              "      <td>V</td>\n",
              "      <td>V</td>\n",
              "      <td>V</td>\n",
              "      <td>U</td>\n",
              "      <td>3760.0</td>\n",
              "      <td>Fire-resistive</td>\n",
              "      <td>without</td>\n",
              "      <td>43157</td>\n",
              "      <td>oui</td>\n",
              "    </tr>\n",
              "    <tr>\n",
              "      <th>1</th>\n",
              "      <td>H16909</td>\n",
              "      <td>2015</td>\n",
              "      <td>1.0</td>\n",
              "      <td>0</td>\n",
              "      <td>V</td>\n",
              "      <td>N</td>\n",
              "      <td>O</td>\n",
              "      <td>R</td>\n",
              "      <td>1452.0</td>\n",
              "      <td>Fire-resistive</td>\n",
              "      <td>5</td>\n",
              "      <td>58194</td>\n",
              "      <td>non</td>\n",
              "    </tr>\n",
              "    <tr>\n",
              "      <th>2</th>\n",
              "      <td>H16867</td>\n",
              "      <td>2013</td>\n",
              "      <td>1.0</td>\n",
              "      <td>1</td>\n",
              "      <td>V</td>\n",
              "      <td>N</td>\n",
              "      <td>O</td>\n",
              "      <td>R</td>\n",
              "      <td>1944.0</td>\n",
              "      <td>Ordinary</td>\n",
              "      <td>6</td>\n",
              "      <td>92050</td>\n",
              "      <td>oui</td>\n",
              "    </tr>\n",
              "    <tr>\n",
              "      <th>3</th>\n",
              "      <td>H14813</td>\n",
              "      <td>2015</td>\n",
              "      <td>1.0</td>\n",
              "      <td>0</td>\n",
              "      <td>N</td>\n",
              "      <td>V</td>\n",
              "      <td>V</td>\n",
              "      <td>U</td>\n",
              "      <td>2270.0</td>\n",
              "      <td>Non-combustible</td>\n",
              "      <td>without</td>\n",
              "      <td>13209</td>\n",
              "      <td>oui</td>\n",
              "    </tr>\n",
              "    <tr>\n",
              "      <th>4</th>\n",
              "      <td>H3728</td>\n",
              "      <td>2016</td>\n",
              "      <td>0.5</td>\n",
              "      <td>0</td>\n",
              "      <td>V</td>\n",
              "      <td>N</td>\n",
              "      <td>O</td>\n",
              "      <td>R</td>\n",
              "      <td>2976.0</td>\n",
              "      <td>Fire-resistive</td>\n",
              "      <td>9</td>\n",
              "      <td>5177</td>\n",
              "      <td>non</td>\n",
              "    </tr>\n",
              "    <tr>\n",
              "      <th>...</th>\n",
              "      <td>...</td>\n",
              "      <td>...</td>\n",
              "      <td>...</td>\n",
              "      <td>...</td>\n",
              "      <td>...</td>\n",
              "      <td>...</td>\n",
              "      <td>...</td>\n",
              "      <td>...</td>\n",
              "      <td>...</td>\n",
              "      <td>...</td>\n",
              "      <td>...</td>\n",
              "      <td>...</td>\n",
              "      <td>...</td>\n",
              "    </tr>\n",
              "    <tr>\n",
              "      <th>2142</th>\n",
              "      <td>H19924</td>\n",
              "      <td>2016</td>\n",
              "      <td>0.5</td>\n",
              "      <td>1</td>\n",
              "      <td>V</td>\n",
              "      <td>N</td>\n",
              "      <td>O</td>\n",
              "      <td>R</td>\n",
              "      <td>862.0</td>\n",
              "      <td>Wood-framed</td>\n",
              "      <td>2</td>\n",
              "      <td>6159</td>\n",
              "      <td>non</td>\n",
              "    </tr>\n",
              "    <tr>\n",
              "      <th>2143</th>\n",
              "      <td>H17249</td>\n",
              "      <td>2012</td>\n",
              "      <td>1.0</td>\n",
              "      <td>0</td>\n",
              "      <td>V</td>\n",
              "      <td>V</td>\n",
              "      <td>V</td>\n",
              "      <td>U</td>\n",
              "      <td>NaN</td>\n",
              "      <td>Non-combustible</td>\n",
              "      <td>without</td>\n",
              "      <td>NaN</td>\n",
              "      <td>non</td>\n",
              "    </tr>\n",
              "    <tr>\n",
              "      <th>2144</th>\n",
              "      <td>H18804</td>\n",
              "      <td>2014</td>\n",
              "      <td>1.0</td>\n",
              "      <td>0</td>\n",
              "      <td>V</td>\n",
              "      <td>N</td>\n",
              "      <td>O</td>\n",
              "      <td>R</td>\n",
              "      <td>730.0</td>\n",
              "      <td>Non-combustible</td>\n",
              "      <td>3</td>\n",
              "      <td>69027</td>\n",
              "      <td>non</td>\n",
              "    </tr>\n",
              "    <tr>\n",
              "      <th>2145</th>\n",
              "      <td>H12650</td>\n",
              "      <td>2014</td>\n",
              "      <td>1.0</td>\n",
              "      <td>1</td>\n",
              "      <td>N</td>\n",
              "      <td>V</td>\n",
              "      <td>V</td>\n",
              "      <td>U</td>\n",
              "      <td>568.0</td>\n",
              "      <td>Non-combustible</td>\n",
              "      <td>without</td>\n",
              "      <td>69091</td>\n",
              "      <td>oui</td>\n",
              "    </tr>\n",
              "    <tr>\n",
              "      <th>2146</th>\n",
              "      <td>H13879</td>\n",
              "      <td>2013</td>\n",
              "      <td>0.5</td>\n",
              "      <td>0</td>\n",
              "      <td>N</td>\n",
              "      <td>V</td>\n",
              "      <td>V</td>\n",
              "      <td>U</td>\n",
              "      <td>730.0</td>\n",
              "      <td>Non-combustible</td>\n",
              "      <td>without</td>\n",
              "      <td>90010</td>\n",
              "      <td>non</td>\n",
              "    </tr>\n",
              "  </tbody>\n",
              "</table>\n",
              "<p>2147 rows × 13 columns</p>\n",
              "</div>\n",
              "      <button class=\"colab-df-convert\" onclick=\"convertToInteractive('df-535724e5-328b-4eed-8af6-8a6356914d5d')\"\n",
              "              title=\"Convert this dataframe to an interactive table.\"\n",
              "              style=\"display:none;\">\n",
              "        \n",
              "  <svg xmlns=\"http://www.w3.org/2000/svg\" height=\"24px\"viewBox=\"0 0 24 24\"\n",
              "       width=\"24px\">\n",
              "    <path d=\"M0 0h24v24H0V0z\" fill=\"none\"/>\n",
              "    <path d=\"M18.56 5.44l.94 2.06.94-2.06 2.06-.94-2.06-.94-.94-2.06-.94 2.06-2.06.94zm-11 1L8.5 8.5l.94-2.06 2.06-.94-2.06-.94L8.5 2.5l-.94 2.06-2.06.94zm10 10l.94 2.06.94-2.06 2.06-.94-2.06-.94-.94-2.06-.94 2.06-2.06.94z\"/><path d=\"M17.41 7.96l-1.37-1.37c-.4-.4-.92-.59-1.43-.59-.52 0-1.04.2-1.43.59L10.3 9.45l-7.72 7.72c-.78.78-.78 2.05 0 2.83L4 21.41c.39.39.9.59 1.41.59.51 0 1.02-.2 1.41-.59l7.78-7.78 2.81-2.81c.8-.78.8-2.07 0-2.86zM5.41 20L4 18.59l7.72-7.72 1.47 1.35L5.41 20z\"/>\n",
              "  </svg>\n",
              "      </button>\n",
              "      \n",
              "  <style>\n",
              "    .colab-df-container {\n",
              "      display:flex;\n",
              "      flex-wrap:wrap;\n",
              "      gap: 12px;\n",
              "    }\n",
              "\n",
              "    .colab-df-convert {\n",
              "      background-color: #E8F0FE;\n",
              "      border: none;\n",
              "      border-radius: 50%;\n",
              "      cursor: pointer;\n",
              "      display: none;\n",
              "      fill: #1967D2;\n",
              "      height: 32px;\n",
              "      padding: 0 0 0 0;\n",
              "      width: 32px;\n",
              "    }\n",
              "\n",
              "    .colab-df-convert:hover {\n",
              "      background-color: #E2EBFA;\n",
              "      box-shadow: 0px 1px 2px rgba(60, 64, 67, 0.3), 0px 1px 3px 1px rgba(60, 64, 67, 0.15);\n",
              "      fill: #174EA6;\n",
              "    }\n",
              "\n",
              "    [theme=dark] .colab-df-convert {\n",
              "      background-color: #3B4455;\n",
              "      fill: #D2E3FC;\n",
              "    }\n",
              "\n",
              "    [theme=dark] .colab-df-convert:hover {\n",
              "      background-color: #434B5C;\n",
              "      box-shadow: 0px 1px 3px 1px rgba(0, 0, 0, 0.15);\n",
              "      filter: drop-shadow(0px 1px 2px rgba(0, 0, 0, 0.3));\n",
              "      fill: #FFFFFF;\n",
              "    }\n",
              "  </style>\n",
              "\n",
              "      <script>\n",
              "        const buttonEl =\n",
              "          document.querySelector('#df-535724e5-328b-4eed-8af6-8a6356914d5d button.colab-df-convert');\n",
              "        buttonEl.style.display =\n",
              "          google.colab.kernel.accessAllowed ? 'block' : 'none';\n",
              "\n",
              "        async function convertToInteractive(key) {\n",
              "          const element = document.querySelector('#df-535724e5-328b-4eed-8af6-8a6356914d5d');\n",
              "          const dataTable =\n",
              "            await google.colab.kernel.invokeFunction('convertToInteractive',\n",
              "                                                     [key], {});\n",
              "          if (!dataTable) return;\n",
              "\n",
              "          const docLinkHtml = 'Like what you see? Visit the ' +\n",
              "            '<a target=\"_blank\" href=https://colab.research.google.com/notebooks/data_table.ipynb>data table notebook</a>'\n",
              "            + ' to learn more about interactive tables.';\n",
              "          element.innerHTML = '';\n",
              "          dataTable['output_type'] = 'display_data';\n",
              "          await google.colab.output.renderOutput(dataTable, element);\n",
              "          const docLink = document.createElement('div');\n",
              "          docLink.innerHTML = docLinkHtml;\n",
              "          element.appendChild(docLink);\n",
              "        }\n",
              "      </script>\n",
              "    </div>\n",
              "  </div>\n",
              "  "
            ]
          },
          "metadata": {},
          "execution_count": 147
        }
      ],
      "source": [
        "test"
      ]
    },
    {
      "cell_type": "code",
      "execution_count": null,
      "metadata": {
        "id": "6vjUfRO-4Oo0",
        "colab": {
          "base_uri": "https://localhost:8080/",
          "height": 319
        },
        "outputId": "0a5abacc-a9f8-4d3d-faab-2072c1ede15e"
      },
      "outputs": [
        {
          "output_type": "execute_result",
          "data": {
            "text/plain": [
              "  Customer Id  YearOfObservation  Insured_Period  Residential  \\\n",
              "0      H13501               2012             1.0            1   \n",
              "1      H14962               2012             1.0            0   \n",
              "2      H17755               2013             1.0            1   \n",
              "3      H13369               2016             0.5            0   \n",
              "4      H12988               2012             1.0            0   \n",
              "\n",
              "  Building_Painted Building_Fenced Garden Settlement  Building Dimension  \\\n",
              "0                N               V      V          U              1240.0   \n",
              "1                N               V      V          U               900.0   \n",
              "2                V               N      O          R              4984.0   \n",
              "3                N               V      V          U               600.0   \n",
              "4                N               V      V          U               900.0   \n",
              "\n",
              "     Building_Type NumberOfWindows Geo_Code Claim  \n",
              "0      Wood-framed         without    75117   non  \n",
              "1  Non-combustible         without    62916   non  \n",
              "2  Non-combustible               4    31149   oui  \n",
              "3      Wood-framed         without     6012   oui  \n",
              "4  Non-combustible         without    57631   non  "
            ],
            "text/html": [
              "\n",
              "  <div id=\"df-2805e014-acc2-4c31-91fa-787360bc8c4f\">\n",
              "    <div class=\"colab-df-container\">\n",
              "      <div>\n",
              "<style scoped>\n",
              "    .dataframe tbody tr th:only-of-type {\n",
              "        vertical-align: middle;\n",
              "    }\n",
              "\n",
              "    .dataframe tbody tr th {\n",
              "        vertical-align: top;\n",
              "    }\n",
              "\n",
              "    .dataframe thead th {\n",
              "        text-align: right;\n",
              "    }\n",
              "</style>\n",
              "<table border=\"1\" class=\"dataframe\">\n",
              "  <thead>\n",
              "    <tr style=\"text-align: right;\">\n",
              "      <th></th>\n",
              "      <th>Customer Id</th>\n",
              "      <th>YearOfObservation</th>\n",
              "      <th>Insured_Period</th>\n",
              "      <th>Residential</th>\n",
              "      <th>Building_Painted</th>\n",
              "      <th>Building_Fenced</th>\n",
              "      <th>Garden</th>\n",
              "      <th>Settlement</th>\n",
              "      <th>Building Dimension</th>\n",
              "      <th>Building_Type</th>\n",
              "      <th>NumberOfWindows</th>\n",
              "      <th>Geo_Code</th>\n",
              "      <th>Claim</th>\n",
              "    </tr>\n",
              "  </thead>\n",
              "  <tbody>\n",
              "    <tr>\n",
              "      <th>0</th>\n",
              "      <td>H13501</td>\n",
              "      <td>2012</td>\n",
              "      <td>1.0</td>\n",
              "      <td>1</td>\n",
              "      <td>N</td>\n",
              "      <td>V</td>\n",
              "      <td>V</td>\n",
              "      <td>U</td>\n",
              "      <td>1240.0</td>\n",
              "      <td>Wood-framed</td>\n",
              "      <td>without</td>\n",
              "      <td>75117</td>\n",
              "      <td>non</td>\n",
              "    </tr>\n",
              "    <tr>\n",
              "      <th>1</th>\n",
              "      <td>H14962</td>\n",
              "      <td>2012</td>\n",
              "      <td>1.0</td>\n",
              "      <td>0</td>\n",
              "      <td>N</td>\n",
              "      <td>V</td>\n",
              "      <td>V</td>\n",
              "      <td>U</td>\n",
              "      <td>900.0</td>\n",
              "      <td>Non-combustible</td>\n",
              "      <td>without</td>\n",
              "      <td>62916</td>\n",
              "      <td>non</td>\n",
              "    </tr>\n",
              "    <tr>\n",
              "      <th>2</th>\n",
              "      <td>H17755</td>\n",
              "      <td>2013</td>\n",
              "      <td>1.0</td>\n",
              "      <td>1</td>\n",
              "      <td>V</td>\n",
              "      <td>N</td>\n",
              "      <td>O</td>\n",
              "      <td>R</td>\n",
              "      <td>4984.0</td>\n",
              "      <td>Non-combustible</td>\n",
              "      <td>4</td>\n",
              "      <td>31149</td>\n",
              "      <td>oui</td>\n",
              "    </tr>\n",
              "    <tr>\n",
              "      <th>3</th>\n",
              "      <td>H13369</td>\n",
              "      <td>2016</td>\n",
              "      <td>0.5</td>\n",
              "      <td>0</td>\n",
              "      <td>N</td>\n",
              "      <td>V</td>\n",
              "      <td>V</td>\n",
              "      <td>U</td>\n",
              "      <td>600.0</td>\n",
              "      <td>Wood-framed</td>\n",
              "      <td>without</td>\n",
              "      <td>6012</td>\n",
              "      <td>oui</td>\n",
              "    </tr>\n",
              "    <tr>\n",
              "      <th>4</th>\n",
              "      <td>H12988</td>\n",
              "      <td>2012</td>\n",
              "      <td>1.0</td>\n",
              "      <td>0</td>\n",
              "      <td>N</td>\n",
              "      <td>V</td>\n",
              "      <td>V</td>\n",
              "      <td>U</td>\n",
              "      <td>900.0</td>\n",
              "      <td>Non-combustible</td>\n",
              "      <td>without</td>\n",
              "      <td>57631</td>\n",
              "      <td>non</td>\n",
              "    </tr>\n",
              "  </tbody>\n",
              "</table>\n",
              "</div>\n",
              "      <button class=\"colab-df-convert\" onclick=\"convertToInteractive('df-2805e014-acc2-4c31-91fa-787360bc8c4f')\"\n",
              "              title=\"Convert this dataframe to an interactive table.\"\n",
              "              style=\"display:none;\">\n",
              "        \n",
              "  <svg xmlns=\"http://www.w3.org/2000/svg\" height=\"24px\"viewBox=\"0 0 24 24\"\n",
              "       width=\"24px\">\n",
              "    <path d=\"M0 0h24v24H0V0z\" fill=\"none\"/>\n",
              "    <path d=\"M18.56 5.44l.94 2.06.94-2.06 2.06-.94-2.06-.94-.94-2.06-.94 2.06-2.06.94zm-11 1L8.5 8.5l.94-2.06 2.06-.94-2.06-.94L8.5 2.5l-.94 2.06-2.06.94zm10 10l.94 2.06.94-2.06 2.06-.94-2.06-.94-.94-2.06-.94 2.06-2.06.94z\"/><path d=\"M17.41 7.96l-1.37-1.37c-.4-.4-.92-.59-1.43-.59-.52 0-1.04.2-1.43.59L10.3 9.45l-7.72 7.72c-.78.78-.78 2.05 0 2.83L4 21.41c.39.39.9.59 1.41.59.51 0 1.02-.2 1.41-.59l7.78-7.78 2.81-2.81c.8-.78.8-2.07 0-2.86zM5.41 20L4 18.59l7.72-7.72 1.47 1.35L5.41 20z\"/>\n",
              "  </svg>\n",
              "      </button>\n",
              "      \n",
              "  <style>\n",
              "    .colab-df-container {\n",
              "      display:flex;\n",
              "      flex-wrap:wrap;\n",
              "      gap: 12px;\n",
              "    }\n",
              "\n",
              "    .colab-df-convert {\n",
              "      background-color: #E8F0FE;\n",
              "      border: none;\n",
              "      border-radius: 50%;\n",
              "      cursor: pointer;\n",
              "      display: none;\n",
              "      fill: #1967D2;\n",
              "      height: 32px;\n",
              "      padding: 0 0 0 0;\n",
              "      width: 32px;\n",
              "    }\n",
              "\n",
              "    .colab-df-convert:hover {\n",
              "      background-color: #E2EBFA;\n",
              "      box-shadow: 0px 1px 2px rgba(60, 64, 67, 0.3), 0px 1px 3px 1px rgba(60, 64, 67, 0.15);\n",
              "      fill: #174EA6;\n",
              "    }\n",
              "\n",
              "    [theme=dark] .colab-df-convert {\n",
              "      background-color: #3B4455;\n",
              "      fill: #D2E3FC;\n",
              "    }\n",
              "\n",
              "    [theme=dark] .colab-df-convert:hover {\n",
              "      background-color: #434B5C;\n",
              "      box-shadow: 0px 1px 3px 1px rgba(0, 0, 0, 0.15);\n",
              "      filter: drop-shadow(0px 1px 2px rgba(0, 0, 0, 0.3));\n",
              "      fill: #FFFFFF;\n",
              "    }\n",
              "  </style>\n",
              "\n",
              "      <script>\n",
              "        const buttonEl =\n",
              "          document.querySelector('#df-2805e014-acc2-4c31-91fa-787360bc8c4f button.colab-df-convert');\n",
              "        buttonEl.style.display =\n",
              "          google.colab.kernel.accessAllowed ? 'block' : 'none';\n",
              "\n",
              "        async function convertToInteractive(key) {\n",
              "          const element = document.querySelector('#df-2805e014-acc2-4c31-91fa-787360bc8c4f');\n",
              "          const dataTable =\n",
              "            await google.colab.kernel.invokeFunction('convertToInteractive',\n",
              "                                                     [key], {});\n",
              "          if (!dataTable) return;\n",
              "\n",
              "          const docLinkHtml = 'Like what you see? Visit the ' +\n",
              "            '<a target=\"_blank\" href=https://colab.research.google.com/notebooks/data_table.ipynb>data table notebook</a>'\n",
              "            + ' to learn more about interactive tables.';\n",
              "          element.innerHTML = '';\n",
              "          dataTable['output_type'] = 'display_data';\n",
              "          await google.colab.output.renderOutput(dataTable, element);\n",
              "          const docLink = document.createElement('div');\n",
              "          docLink.innerHTML = docLinkHtml;\n",
              "          element.appendChild(docLink);\n",
              "        }\n",
              "      </script>\n",
              "    </div>\n",
              "  </div>\n",
              "  "
            ]
          },
          "metadata": {},
          "execution_count": 148
        }
      ],
      "source": [
        "train.head()"
      ]
    },
    {
      "cell_type": "markdown",
      "metadata": {
        "id": "7M6EUoBe3L1E"
      },
      "source": [
        "### **Analyse de données & Data preprocessing** "
      ]
    },
    {
      "cell_type": "code",
      "execution_count": null,
      "metadata": {
        "id": "t9XFTDJR7kV1",
        "colab": {
          "base_uri": "https://localhost:8080/",
          "height": 664
        },
        "outputId": "4f8c0e1c-af74-4118-ee3c-82516ce84dfb"
      },
      "outputs": [
        {
          "output_type": "stream",
          "name": "stdout",
          "text": [
            "<class 'pandas.core.frame.DataFrame'>\n",
            "RangeIndex: 5012 entries, 0 to 5011\n",
            "Data columns (total 13 columns):\n",
            " #   Column              Non-Null Count  Dtype  \n",
            "---  ------              --------------  -----  \n",
            " 0   Customer Id         5012 non-null   object \n",
            " 1   YearOfObservation   5012 non-null   int64  \n",
            " 2   Insured_Period      5012 non-null   float64\n",
            " 3   Residential         5012 non-null   int64  \n",
            " 4   Building_Painted    5012 non-null   object \n",
            " 5   Building_Fenced     5012 non-null   object \n",
            " 6   Garden              5008 non-null   object \n",
            " 7   Settlement          5012 non-null   object \n",
            " 8   Building Dimension  4935 non-null   float64\n",
            " 9   Building_Type       5012 non-null   object \n",
            " 10  NumberOfWindows     5012 non-null   object \n",
            " 11  Geo_Code            4939 non-null   object \n",
            " 12  Claim               5012 non-null   object \n",
            "dtypes: float64(2), int64(2), object(9)\n",
            "memory usage: 509.2+ KB\n",
            "None\n"
          ]
        },
        {
          "output_type": "execute_result",
          "data": {
            "text/plain": [
              "       YearOfObservation  Insured_Period  Residential  Building Dimension\n",
              "count        5012.000000     5012.000000  5012.000000         4935.000000\n",
              "mean         2013.660215        0.869713     0.301077         1876.898683\n",
              "std             1.383134        0.219496     0.458772         2267.277397\n",
              "min          2012.000000        0.500000     0.000000            1.000000\n",
              "25%          2012.000000        0.500000     0.000000          520.000000\n",
              "50%          2013.000000        1.000000     0.000000         1067.000000\n",
              "75%          2015.000000        1.000000     1.000000         2280.000000\n",
              "max          2016.000000        1.000000     1.000000        20840.000000"
            ],
            "text/html": [
              "\n",
              "  <div id=\"df-056a73db-73f9-4fdc-9758-ec5aed84ab4c\">\n",
              "    <div class=\"colab-df-container\">\n",
              "      <div>\n",
              "<style scoped>\n",
              "    .dataframe tbody tr th:only-of-type {\n",
              "        vertical-align: middle;\n",
              "    }\n",
              "\n",
              "    .dataframe tbody tr th {\n",
              "        vertical-align: top;\n",
              "    }\n",
              "\n",
              "    .dataframe thead th {\n",
              "        text-align: right;\n",
              "    }\n",
              "</style>\n",
              "<table border=\"1\" class=\"dataframe\">\n",
              "  <thead>\n",
              "    <tr style=\"text-align: right;\">\n",
              "      <th></th>\n",
              "      <th>YearOfObservation</th>\n",
              "      <th>Insured_Period</th>\n",
              "      <th>Residential</th>\n",
              "      <th>Building Dimension</th>\n",
              "    </tr>\n",
              "  </thead>\n",
              "  <tbody>\n",
              "    <tr>\n",
              "      <th>count</th>\n",
              "      <td>5012.000000</td>\n",
              "      <td>5012.000000</td>\n",
              "      <td>5012.000000</td>\n",
              "      <td>4935.000000</td>\n",
              "    </tr>\n",
              "    <tr>\n",
              "      <th>mean</th>\n",
              "      <td>2013.660215</td>\n",
              "      <td>0.869713</td>\n",
              "      <td>0.301077</td>\n",
              "      <td>1876.898683</td>\n",
              "    </tr>\n",
              "    <tr>\n",
              "      <th>std</th>\n",
              "      <td>1.383134</td>\n",
              "      <td>0.219496</td>\n",
              "      <td>0.458772</td>\n",
              "      <td>2267.277397</td>\n",
              "    </tr>\n",
              "    <tr>\n",
              "      <th>min</th>\n",
              "      <td>2012.000000</td>\n",
              "      <td>0.500000</td>\n",
              "      <td>0.000000</td>\n",
              "      <td>1.000000</td>\n",
              "    </tr>\n",
              "    <tr>\n",
              "      <th>25%</th>\n",
              "      <td>2012.000000</td>\n",
              "      <td>0.500000</td>\n",
              "      <td>0.000000</td>\n",
              "      <td>520.000000</td>\n",
              "    </tr>\n",
              "    <tr>\n",
              "      <th>50%</th>\n",
              "      <td>2013.000000</td>\n",
              "      <td>1.000000</td>\n",
              "      <td>0.000000</td>\n",
              "      <td>1067.000000</td>\n",
              "    </tr>\n",
              "    <tr>\n",
              "      <th>75%</th>\n",
              "      <td>2015.000000</td>\n",
              "      <td>1.000000</td>\n",
              "      <td>1.000000</td>\n",
              "      <td>2280.000000</td>\n",
              "    </tr>\n",
              "    <tr>\n",
              "      <th>max</th>\n",
              "      <td>2016.000000</td>\n",
              "      <td>1.000000</td>\n",
              "      <td>1.000000</td>\n",
              "      <td>20840.000000</td>\n",
              "    </tr>\n",
              "  </tbody>\n",
              "</table>\n",
              "</div>\n",
              "      <button class=\"colab-df-convert\" onclick=\"convertToInteractive('df-056a73db-73f9-4fdc-9758-ec5aed84ab4c')\"\n",
              "              title=\"Convert this dataframe to an interactive table.\"\n",
              "              style=\"display:none;\">\n",
              "        \n",
              "  <svg xmlns=\"http://www.w3.org/2000/svg\" height=\"24px\"viewBox=\"0 0 24 24\"\n",
              "       width=\"24px\">\n",
              "    <path d=\"M0 0h24v24H0V0z\" fill=\"none\"/>\n",
              "    <path d=\"M18.56 5.44l.94 2.06.94-2.06 2.06-.94-2.06-.94-.94-2.06-.94 2.06-2.06.94zm-11 1L8.5 8.5l.94-2.06 2.06-.94-2.06-.94L8.5 2.5l-.94 2.06-2.06.94zm10 10l.94 2.06.94-2.06 2.06-.94-2.06-.94-.94-2.06-.94 2.06-2.06.94z\"/><path d=\"M17.41 7.96l-1.37-1.37c-.4-.4-.92-.59-1.43-.59-.52 0-1.04.2-1.43.59L10.3 9.45l-7.72 7.72c-.78.78-.78 2.05 0 2.83L4 21.41c.39.39.9.59 1.41.59.51 0 1.02-.2 1.41-.59l7.78-7.78 2.81-2.81c.8-.78.8-2.07 0-2.86zM5.41 20L4 18.59l7.72-7.72 1.47 1.35L5.41 20z\"/>\n",
              "  </svg>\n",
              "      </button>\n",
              "      \n",
              "  <style>\n",
              "    .colab-df-container {\n",
              "      display:flex;\n",
              "      flex-wrap:wrap;\n",
              "      gap: 12px;\n",
              "    }\n",
              "\n",
              "    .colab-df-convert {\n",
              "      background-color: #E8F0FE;\n",
              "      border: none;\n",
              "      border-radius: 50%;\n",
              "      cursor: pointer;\n",
              "      display: none;\n",
              "      fill: #1967D2;\n",
              "      height: 32px;\n",
              "      padding: 0 0 0 0;\n",
              "      width: 32px;\n",
              "    }\n",
              "\n",
              "    .colab-df-convert:hover {\n",
              "      background-color: #E2EBFA;\n",
              "      box-shadow: 0px 1px 2px rgba(60, 64, 67, 0.3), 0px 1px 3px 1px rgba(60, 64, 67, 0.15);\n",
              "      fill: #174EA6;\n",
              "    }\n",
              "\n",
              "    [theme=dark] .colab-df-convert {\n",
              "      background-color: #3B4455;\n",
              "      fill: #D2E3FC;\n",
              "    }\n",
              "\n",
              "    [theme=dark] .colab-df-convert:hover {\n",
              "      background-color: #434B5C;\n",
              "      box-shadow: 0px 1px 3px 1px rgba(0, 0, 0, 0.15);\n",
              "      filter: drop-shadow(0px 1px 2px rgba(0, 0, 0, 0.3));\n",
              "      fill: #FFFFFF;\n",
              "    }\n",
              "  </style>\n",
              "\n",
              "      <script>\n",
              "        const buttonEl =\n",
              "          document.querySelector('#df-056a73db-73f9-4fdc-9758-ec5aed84ab4c button.colab-df-convert');\n",
              "        buttonEl.style.display =\n",
              "          google.colab.kernel.accessAllowed ? 'block' : 'none';\n",
              "\n",
              "        async function convertToInteractive(key) {\n",
              "          const element = document.querySelector('#df-056a73db-73f9-4fdc-9758-ec5aed84ab4c');\n",
              "          const dataTable =\n",
              "            await google.colab.kernel.invokeFunction('convertToInteractive',\n",
              "                                                     [key], {});\n",
              "          if (!dataTable) return;\n",
              "\n",
              "          const docLinkHtml = 'Like what you see? Visit the ' +\n",
              "            '<a target=\"_blank\" href=https://colab.research.google.com/notebooks/data_table.ipynb>data table notebook</a>'\n",
              "            + ' to learn more about interactive tables.';\n",
              "          element.innerHTML = '';\n",
              "          dataTable['output_type'] = 'display_data';\n",
              "          await google.colab.output.renderOutput(dataTable, element);\n",
              "          const docLink = document.createElement('div');\n",
              "          docLink.innerHTML = docLinkHtml;\n",
              "          element.appendChild(docLink);\n",
              "        }\n",
              "      </script>\n",
              "    </div>\n",
              "  </div>\n",
              "  "
            ]
          },
          "metadata": {},
          "execution_count": 149
        }
      ],
      "source": [
        "print(train.info())\n",
        "train.describe()"
      ]
    },
    {
      "cell_type": "code",
      "execution_count": null,
      "metadata": {
        "scrolled": false,
        "id": "grzQyKK37kV1",
        "colab": {
          "base_uri": "https://localhost:8080/"
        },
        "outputId": "a81c0cec-cc0f-43ba-c40d-56d85d30a47e"
      },
      "outputs": [
        {
          "output_type": "stream",
          "name": "stdout",
          "text": [
            " \n",
            "\n",
            " train set \n",
            "\n",
            "\n",
            "1.0    3706\n",
            "0.5    1306\n",
            "Name: Insured_Period, dtype: int64\n",
            "400.0     97\n",
            "450.0     89\n",
            "600.0     88\n",
            "500.0     83\n",
            "300.0     78\n",
            "          ..\n",
            "1423.0     1\n",
            "2530.0     1\n",
            "653.0      1\n",
            "1934.0     1\n",
            "173.0      1\n",
            "Name: Building Dimension, Length: 1683, dtype: int64\n",
            "0    3503\n",
            "1    1509\n",
            "Name: Residential, dtype: int64\n",
            "V    3763\n",
            "N    1249\n",
            "Name: Building_Painted, dtype: int64\n",
            "N    2535\n",
            "V    2477\n",
            "Name: Building_Fenced, dtype: int64\n",
            "O    2532\n",
            "V    2476\n",
            "Name: Garden, dtype: int64\n",
            "Non-combustible    2310\n",
            "Fire-resistive     1205\n",
            "Ordinary            854\n",
            "Wood-framed         643\n",
            "Name: Building_Type, dtype: int64\n",
            "without    2476\n",
            "4           667\n",
            "3           600\n",
            "5           436\n",
            "2           245\n",
            "6           225\n",
            "7           142\n",
            "8            84\n",
            ">=10         53\n",
            "1            49\n",
            "9            35\n",
            "Name: NumberOfWindows, dtype: int64\n",
            "6088     102\n",
            "33063     97\n",
            "6083      83\n",
            "31555     62\n",
            "13206     59\n",
            "        ... \n",
            "42332      1\n",
            "60057      1\n",
            "77285      1\n",
            "74278      1\n",
            "94059      1\n",
            "Name: Geo_Code, Length: 1115, dtype: int64\n",
            "non    3886\n",
            "oui    1126\n",
            "Name: Claim, dtype: int64\n",
            " \n",
            "\n",
            " test set \n",
            "\n",
            "\n",
            "1.0    1618\n",
            "0.5     529\n",
            "Name: Insured_Period, dtype: int64\n",
            "0    1469\n",
            "1     678\n",
            "Name: Residential, dtype: int64\n",
            "V    1619\n",
            "N     528\n",
            "Name: Building_Painted, dtype: int64\n",
            "V    1074\n",
            "N    1073\n",
            "Name: Building_Fenced, dtype: int64\n",
            "V    1074\n",
            "O    1070\n",
            "Name: Garden, dtype: int64\n",
            "Non-combustible    995\n",
            "Fire-resistive     511\n",
            "Ordinary           375\n",
            "Wood-framed        266\n",
            "Name: Building_Type, dtype: int64\n",
            "without    1074\n",
            "4           272\n",
            "3           244\n",
            "5           203\n",
            "2           118\n",
            "6            81\n",
            "7            69\n",
            "8            32\n",
            "1            26\n",
            "9            14\n",
            ">=10         14\n",
            "Name: NumberOfWindows, dtype: int64\n",
            "6088     41\n",
            "33063    40\n",
            "13206    39\n",
            "6083     30\n",
            "83137    30\n",
            "         ..\n",
            "83034     1\n",
            "46042     1\n",
            "92002     1\n",
            "95203     1\n",
            "69027     1\n",
            "Name: Geo_Code, Length: 714, dtype: int64\n",
            "non    1639\n",
            "oui     508\n",
            "Name: Claim, dtype: int64\n"
          ]
        }
      ],
      "source": [
        "print ( \" \\n\\n train set \\n\\n\")\n",
        "print(train['Insured_Period'].value_counts())\n",
        "print(train['Building Dimension'].value_counts())\n",
        "print(train['Residential'].value_counts())\n",
        "print(train['Building_Painted'].value_counts())\n",
        "print(train['Building_Fenced'].value_counts())\n",
        "print(train['Garden'].value_counts())\n",
        "print(train['Building_Type'].value_counts())\n",
        "print(train['NumberOfWindows'].value_counts())\n",
        "print(train['Geo_Code'].value_counts())\n",
        "print(train['Claim'].value_counts())\n",
        "\n",
        "print (\" \\n\\n test set \\n\\n\")\n",
        "print(test['Insured_Period'].value_counts())\n",
        "print(test['Residential'].value_counts())\n",
        "print(test['Building_Painted'].value_counts())\n",
        "print(test['Building_Fenced'].value_counts())\n",
        "print(test['Garden'].value_counts())\n",
        "print(test['Building_Type'].value_counts())\n",
        "print(test['NumberOfWindows'].value_counts())\n",
        "print(test['Geo_Code'].value_counts())\n",
        "print(test['Claim'].value_counts())\n"
      ]
    },
    {
      "cell_type": "code",
      "execution_count": null,
      "metadata": {
        "id": "1ZnZ1FbD7kV2",
        "colab": {
          "base_uri": "https://localhost:8080/"
        },
        "outputId": "c37a8738-bbe3-4e99-c7d3-ce20bb7bfb10"
      },
      "outputs": [
        {
          "output_type": "stream",
          "name": "stdout",
          "text": [
            " \n",
            " Nombre des valeurs manquantes dans chaque colonnes\n",
            " \n",
            "\n",
            " Train set\n",
            "\n",
            "  Customer Id            0\n",
            "YearOfObservation      0\n",
            "Insured_Period         0\n",
            "Residential            0\n",
            "Building_Painted       0\n",
            "Building_Fenced        0\n",
            "Garden                 4\n",
            "Settlement             0\n",
            "Building Dimension    77\n",
            "Building_Type          0\n",
            "NumberOfWindows        0\n",
            "Geo_Code              73\n",
            "Claim                  0\n",
            "dtype: int64\n",
            " \n",
            "\n",
            " test set\n",
            "\n",
            "  Customer Id            0\n",
            "YearOfObservation      0\n",
            "Insured_Period         0\n",
            "Residential            0\n",
            "Building_Painted       0\n",
            "Building_Fenced        0\n",
            "Garden                 3\n",
            "Settlement             0\n",
            "Building Dimension    29\n",
            "Building_Type          0\n",
            "NumberOfWindows        0\n",
            "Geo_Code              29\n",
            "Claim                  0\n",
            "dtype: int64\n"
          ]
        }
      ],
      "source": [
        "print(\" \\n Nombre des valeurs manquantes dans chaque colonnes\\n \")\n",
        "missing_values_train = train.isnull().sum()\n",
        "missing_values_test = test.isnull().sum()\n",
        "print(\"\\n Train set\\n\\n \" ,missing_values_train)\n",
        "print(\" \\n\\n test set\\n\\n \",missing_values_test)"
      ]
    },
    {
      "cell_type": "code",
      "execution_count": null,
      "metadata": {
        "id": "7e5Vsr_u7kV3",
        "colab": {
          "base_uri": "https://localhost:8080/"
        },
        "outputId": "dd7f1db9-cef3-414b-990a-a2c5b44131d3"
      },
      "outputs": [
        {
          "output_type": "stream",
          "name": "stdout",
          "text": [
            " \n",
            "pourcentage des valeurs manquantes dans chaque colonnes\n",
            " \n",
            "\n",
            " Train set pourcentage \n",
            "\n",
            "  Customer Id           0.000000\n",
            "YearOfObservation     0.000000\n",
            "Insured_Period        0.000000\n",
            "Residential           0.000000\n",
            "Building_Painted      0.000000\n",
            "Building_Fenced       0.000000\n",
            "Garden                0.079808\n",
            "Settlement            0.000000\n",
            "Building Dimension    1.536313\n",
            "Building_Type         0.000000\n",
            "NumberOfWindows       0.000000\n",
            "Geo_Code              1.456504\n",
            "Claim                 0.000000\n",
            "dtype: float64\n",
            " \n",
            "\n",
            " test set pourcentage \n",
            "\n",
            "  Customer Id           0.000000\n",
            "YearOfObservation     0.000000\n",
            "Insured_Period        0.000000\n",
            "Residential           0.000000\n",
            "Building_Painted      0.000000\n",
            "Building_Fenced       0.000000\n",
            "Garden                0.139730\n",
            "Settlement            0.000000\n",
            "Building Dimension    1.350722\n",
            "Building_Type         0.000000\n",
            "NumberOfWindows       0.000000\n",
            "Geo_Code              1.350722\n",
            "Claim                 0.000000\n",
            "dtype: float64\n"
          ]
        }
      ],
      "source": [
        "\n",
        "print(\" \\npourcentage des valeurs manquantes dans chaque colonnes\\n \")\n",
        "missing_values_train = train.isnull().sum()\n",
        "missing_values_test = test.isnull().sum()\n",
        "print(\"\\n Train set pourcentage \\n\\n \" ,100*missing_values_train/len(train))\n",
        "print(\" \\n\\n test set pourcentage \\n\\n \",100*missing_values_test/len(test))"
      ]
    },
    {
      "cell_type": "code",
      "execution_count": null,
      "metadata": {
        "id": "vuWmTTxd7kV4"
      },
      "outputs": [],
      "source": [
        "train['Garden'].fillna(train['Garden'].mode()[0], inplace=True)\n",
        "test['Garden'].fillna(test['Garden'].mode()[0], inplace=True)\n",
        "train['Geo_Code'].fillna(train['Geo_Code'].mode()[0], inplace=True)\n",
        "test['Geo_Code'].fillna(test['Geo_Code'].mode()[0], inplace=True)\n",
        "train['Building Dimension'].fillna(train['Building Dimension'].mean(), inplace=True)\n",
        "test['Building Dimension'].fillna(test['Building Dimension'].mean(), inplace=True)\n"
      ]
    },
    {
      "cell_type": "code",
      "source": [
        "test"
      ],
      "metadata": {
        "id": "Oy4YI2EfS2V5",
        "colab": {
          "base_uri": "https://localhost:8080/",
          "height": 571
        },
        "outputId": "66fa39f9-a42a-4789-f140-ee0b1d284601"
      },
      "execution_count": null,
      "outputs": [
        {
          "output_type": "execute_result",
          "data": {
            "text/plain": [
              "     Customer Id  YearOfObservation  Insured_Period  Residential  \\\n",
              "0          H3733               2013             1.0            0   \n",
              "1         H16909               2015             1.0            0   \n",
              "2         H16867               2013             1.0            1   \n",
              "3         H14813               2015             1.0            0   \n",
              "4          H3728               2016             0.5            0   \n",
              "...          ...                ...             ...          ...   \n",
              "2142      H19924               2016             0.5            1   \n",
              "2143      H17249               2012             1.0            0   \n",
              "2144      H18804               2014             1.0            0   \n",
              "2145      H12650               2014             1.0            1   \n",
              "2146      H13879               2013             0.5            0   \n",
              "\n",
              "     Building_Painted Building_Fenced Garden Settlement  Building Dimension  \\\n",
              "0                   V               V      V          U         3760.000000   \n",
              "1                   V               N      O          R         1452.000000   \n",
              "2                   V               N      O          R         1944.000000   \n",
              "3                   N               V      V          U         2270.000000   \n",
              "4                   V               N      O          R         2976.000000   \n",
              "...               ...             ...    ...        ...                 ...   \n",
              "2142                V               N      O          R          862.000000   \n",
              "2143                V               V      V          U         1899.700189   \n",
              "2144                V               N      O          R          730.000000   \n",
              "2145                N               V      V          U          568.000000   \n",
              "2146                N               V      V          U          730.000000   \n",
              "\n",
              "        Building_Type NumberOfWindows Geo_Code Claim  \n",
              "0      Fire-resistive         without    43157   oui  \n",
              "1      Fire-resistive               5    58194   non  \n",
              "2            Ordinary               6    92050   oui  \n",
              "3     Non-combustible         without    13209   oui  \n",
              "4      Fire-resistive               9     5177   non  \n",
              "...               ...             ...      ...   ...  \n",
              "2142      Wood-framed               2     6159   non  \n",
              "2143  Non-combustible         without     6088   non  \n",
              "2144  Non-combustible               3    69027   non  \n",
              "2145  Non-combustible         without    69091   oui  \n",
              "2146  Non-combustible         without    90010   non  \n",
              "\n",
              "[2147 rows x 13 columns]"
            ],
            "text/html": [
              "\n",
              "  <div id=\"df-a8c931af-8470-4cbf-a32c-b6e2f20123f9\">\n",
              "    <div class=\"colab-df-container\">\n",
              "      <div>\n",
              "<style scoped>\n",
              "    .dataframe tbody tr th:only-of-type {\n",
              "        vertical-align: middle;\n",
              "    }\n",
              "\n",
              "    .dataframe tbody tr th {\n",
              "        vertical-align: top;\n",
              "    }\n",
              "\n",
              "    .dataframe thead th {\n",
              "        text-align: right;\n",
              "    }\n",
              "</style>\n",
              "<table border=\"1\" class=\"dataframe\">\n",
              "  <thead>\n",
              "    <tr style=\"text-align: right;\">\n",
              "      <th></th>\n",
              "      <th>Customer Id</th>\n",
              "      <th>YearOfObservation</th>\n",
              "      <th>Insured_Period</th>\n",
              "      <th>Residential</th>\n",
              "      <th>Building_Painted</th>\n",
              "      <th>Building_Fenced</th>\n",
              "      <th>Garden</th>\n",
              "      <th>Settlement</th>\n",
              "      <th>Building Dimension</th>\n",
              "      <th>Building_Type</th>\n",
              "      <th>NumberOfWindows</th>\n",
              "      <th>Geo_Code</th>\n",
              "      <th>Claim</th>\n",
              "    </tr>\n",
              "  </thead>\n",
              "  <tbody>\n",
              "    <tr>\n",
              "      <th>0</th>\n",
              "      <td>H3733</td>\n",
              "      <td>2013</td>\n",
              "      <td>1.0</td>\n",
              "      <td>0</td>\n",
              "      <td>V</td>\n",
              "      <td>V</td>\n",
              "      <td>V</td>\n",
              "      <td>U</td>\n",
              "      <td>3760.000000</td>\n",
              "      <td>Fire-resistive</td>\n",
              "      <td>without</td>\n",
              "      <td>43157</td>\n",
              "      <td>oui</td>\n",
              "    </tr>\n",
              "    <tr>\n",
              "      <th>1</th>\n",
              "      <td>H16909</td>\n",
              "      <td>2015</td>\n",
              "      <td>1.0</td>\n",
              "      <td>0</td>\n",
              "      <td>V</td>\n",
              "      <td>N</td>\n",
              "      <td>O</td>\n",
              "      <td>R</td>\n",
              "      <td>1452.000000</td>\n",
              "      <td>Fire-resistive</td>\n",
              "      <td>5</td>\n",
              "      <td>58194</td>\n",
              "      <td>non</td>\n",
              "    </tr>\n",
              "    <tr>\n",
              "      <th>2</th>\n",
              "      <td>H16867</td>\n",
              "      <td>2013</td>\n",
              "      <td>1.0</td>\n",
              "      <td>1</td>\n",
              "      <td>V</td>\n",
              "      <td>N</td>\n",
              "      <td>O</td>\n",
              "      <td>R</td>\n",
              "      <td>1944.000000</td>\n",
              "      <td>Ordinary</td>\n",
              "      <td>6</td>\n",
              "      <td>92050</td>\n",
              "      <td>oui</td>\n",
              "    </tr>\n",
              "    <tr>\n",
              "      <th>3</th>\n",
              "      <td>H14813</td>\n",
              "      <td>2015</td>\n",
              "      <td>1.0</td>\n",
              "      <td>0</td>\n",
              "      <td>N</td>\n",
              "      <td>V</td>\n",
              "      <td>V</td>\n",
              "      <td>U</td>\n",
              "      <td>2270.000000</td>\n",
              "      <td>Non-combustible</td>\n",
              "      <td>without</td>\n",
              "      <td>13209</td>\n",
              "      <td>oui</td>\n",
              "    </tr>\n",
              "    <tr>\n",
              "      <th>4</th>\n",
              "      <td>H3728</td>\n",
              "      <td>2016</td>\n",
              "      <td>0.5</td>\n",
              "      <td>0</td>\n",
              "      <td>V</td>\n",
              "      <td>N</td>\n",
              "      <td>O</td>\n",
              "      <td>R</td>\n",
              "      <td>2976.000000</td>\n",
              "      <td>Fire-resistive</td>\n",
              "      <td>9</td>\n",
              "      <td>5177</td>\n",
              "      <td>non</td>\n",
              "    </tr>\n",
              "    <tr>\n",
              "      <th>...</th>\n",
              "      <td>...</td>\n",
              "      <td>...</td>\n",
              "      <td>...</td>\n",
              "      <td>...</td>\n",
              "      <td>...</td>\n",
              "      <td>...</td>\n",
              "      <td>...</td>\n",
              "      <td>...</td>\n",
              "      <td>...</td>\n",
              "      <td>...</td>\n",
              "      <td>...</td>\n",
              "      <td>...</td>\n",
              "      <td>...</td>\n",
              "    </tr>\n",
              "    <tr>\n",
              "      <th>2142</th>\n",
              "      <td>H19924</td>\n",
              "      <td>2016</td>\n",
              "      <td>0.5</td>\n",
              "      <td>1</td>\n",
              "      <td>V</td>\n",
              "      <td>N</td>\n",
              "      <td>O</td>\n",
              "      <td>R</td>\n",
              "      <td>862.000000</td>\n",
              "      <td>Wood-framed</td>\n",
              "      <td>2</td>\n",
              "      <td>6159</td>\n",
              "      <td>non</td>\n",
              "    </tr>\n",
              "    <tr>\n",
              "      <th>2143</th>\n",
              "      <td>H17249</td>\n",
              "      <td>2012</td>\n",
              "      <td>1.0</td>\n",
              "      <td>0</td>\n",
              "      <td>V</td>\n",
              "      <td>V</td>\n",
              "      <td>V</td>\n",
              "      <td>U</td>\n",
              "      <td>1899.700189</td>\n",
              "      <td>Non-combustible</td>\n",
              "      <td>without</td>\n",
              "      <td>6088</td>\n",
              "      <td>non</td>\n",
              "    </tr>\n",
              "    <tr>\n",
              "      <th>2144</th>\n",
              "      <td>H18804</td>\n",
              "      <td>2014</td>\n",
              "      <td>1.0</td>\n",
              "      <td>0</td>\n",
              "      <td>V</td>\n",
              "      <td>N</td>\n",
              "      <td>O</td>\n",
              "      <td>R</td>\n",
              "      <td>730.000000</td>\n",
              "      <td>Non-combustible</td>\n",
              "      <td>3</td>\n",
              "      <td>69027</td>\n",
              "      <td>non</td>\n",
              "    </tr>\n",
              "    <tr>\n",
              "      <th>2145</th>\n",
              "      <td>H12650</td>\n",
              "      <td>2014</td>\n",
              "      <td>1.0</td>\n",
              "      <td>1</td>\n",
              "      <td>N</td>\n",
              "      <td>V</td>\n",
              "      <td>V</td>\n",
              "      <td>U</td>\n",
              "      <td>568.000000</td>\n",
              "      <td>Non-combustible</td>\n",
              "      <td>without</td>\n",
              "      <td>69091</td>\n",
              "      <td>oui</td>\n",
              "    </tr>\n",
              "    <tr>\n",
              "      <th>2146</th>\n",
              "      <td>H13879</td>\n",
              "      <td>2013</td>\n",
              "      <td>0.5</td>\n",
              "      <td>0</td>\n",
              "      <td>N</td>\n",
              "      <td>V</td>\n",
              "      <td>V</td>\n",
              "      <td>U</td>\n",
              "      <td>730.000000</td>\n",
              "      <td>Non-combustible</td>\n",
              "      <td>without</td>\n",
              "      <td>90010</td>\n",
              "      <td>non</td>\n",
              "    </tr>\n",
              "  </tbody>\n",
              "</table>\n",
              "<p>2147 rows × 13 columns</p>\n",
              "</div>\n",
              "      <button class=\"colab-df-convert\" onclick=\"convertToInteractive('df-a8c931af-8470-4cbf-a32c-b6e2f20123f9')\"\n",
              "              title=\"Convert this dataframe to an interactive table.\"\n",
              "              style=\"display:none;\">\n",
              "        \n",
              "  <svg xmlns=\"http://www.w3.org/2000/svg\" height=\"24px\"viewBox=\"0 0 24 24\"\n",
              "       width=\"24px\">\n",
              "    <path d=\"M0 0h24v24H0V0z\" fill=\"none\"/>\n",
              "    <path d=\"M18.56 5.44l.94 2.06.94-2.06 2.06-.94-2.06-.94-.94-2.06-.94 2.06-2.06.94zm-11 1L8.5 8.5l.94-2.06 2.06-.94-2.06-.94L8.5 2.5l-.94 2.06-2.06.94zm10 10l.94 2.06.94-2.06 2.06-.94-2.06-.94-.94-2.06-.94 2.06-2.06.94z\"/><path d=\"M17.41 7.96l-1.37-1.37c-.4-.4-.92-.59-1.43-.59-.52 0-1.04.2-1.43.59L10.3 9.45l-7.72 7.72c-.78.78-.78 2.05 0 2.83L4 21.41c.39.39.9.59 1.41.59.51 0 1.02-.2 1.41-.59l7.78-7.78 2.81-2.81c.8-.78.8-2.07 0-2.86zM5.41 20L4 18.59l7.72-7.72 1.47 1.35L5.41 20z\"/>\n",
              "  </svg>\n",
              "      </button>\n",
              "      \n",
              "  <style>\n",
              "    .colab-df-container {\n",
              "      display:flex;\n",
              "      flex-wrap:wrap;\n",
              "      gap: 12px;\n",
              "    }\n",
              "\n",
              "    .colab-df-convert {\n",
              "      background-color: #E8F0FE;\n",
              "      border: none;\n",
              "      border-radius: 50%;\n",
              "      cursor: pointer;\n",
              "      display: none;\n",
              "      fill: #1967D2;\n",
              "      height: 32px;\n",
              "      padding: 0 0 0 0;\n",
              "      width: 32px;\n",
              "    }\n",
              "\n",
              "    .colab-df-convert:hover {\n",
              "      background-color: #E2EBFA;\n",
              "      box-shadow: 0px 1px 2px rgba(60, 64, 67, 0.3), 0px 1px 3px 1px rgba(60, 64, 67, 0.15);\n",
              "      fill: #174EA6;\n",
              "    }\n",
              "\n",
              "    [theme=dark] .colab-df-convert {\n",
              "      background-color: #3B4455;\n",
              "      fill: #D2E3FC;\n",
              "    }\n",
              "\n",
              "    [theme=dark] .colab-df-convert:hover {\n",
              "      background-color: #434B5C;\n",
              "      box-shadow: 0px 1px 3px 1px rgba(0, 0, 0, 0.15);\n",
              "      filter: drop-shadow(0px 1px 2px rgba(0, 0, 0, 0.3));\n",
              "      fill: #FFFFFF;\n",
              "    }\n",
              "  </style>\n",
              "\n",
              "      <script>\n",
              "        const buttonEl =\n",
              "          document.querySelector('#df-a8c931af-8470-4cbf-a32c-b6e2f20123f9 button.colab-df-convert');\n",
              "        buttonEl.style.display =\n",
              "          google.colab.kernel.accessAllowed ? 'block' : 'none';\n",
              "\n",
              "        async function convertToInteractive(key) {\n",
              "          const element = document.querySelector('#df-a8c931af-8470-4cbf-a32c-b6e2f20123f9');\n",
              "          const dataTable =\n",
              "            await google.colab.kernel.invokeFunction('convertToInteractive',\n",
              "                                                     [key], {});\n",
              "          if (!dataTable) return;\n",
              "\n",
              "          const docLinkHtml = 'Like what you see? Visit the ' +\n",
              "            '<a target=\"_blank\" href=https://colab.research.google.com/notebooks/data_table.ipynb>data table notebook</a>'\n",
              "            + ' to learn more about interactive tables.';\n",
              "          element.innerHTML = '';\n",
              "          dataTable['output_type'] = 'display_data';\n",
              "          await google.colab.output.renderOutput(dataTable, element);\n",
              "          const docLink = document.createElement('div');\n",
              "          docLink.innerHTML = docLinkHtml;\n",
              "          element.appendChild(docLink);\n",
              "        }\n",
              "      </script>\n",
              "    </div>\n",
              "  </div>\n",
              "  "
            ]
          },
          "metadata": {},
          "execution_count": 154
        }
      ]
    },
    {
      "cell_type": "code",
      "execution_count": null,
      "metadata": {
        "id": "sL3MLjlL7kV4",
        "colab": {
          "base_uri": "https://localhost:8080/"
        },
        "outputId": "e078fc63-f250-4742-ddfc-aef6870024f9"
      },
      "outputs": [
        {
          "output_type": "stream",
          "name": "stdout",
          "text": [
            " \n",
            " Nombre des valeurs manquantes dans chaque colonnes\n",
            " \n",
            "\n",
            " Train set\n",
            "\n",
            "  Customer Id           0\n",
            "YearOfObservation     0\n",
            "Insured_Period        0\n",
            "Residential           0\n",
            "Building_Painted      0\n",
            "Building_Fenced       0\n",
            "Garden                0\n",
            "Settlement            0\n",
            "Building Dimension    0\n",
            "Building_Type         0\n",
            "NumberOfWindows       0\n",
            "Geo_Code              0\n",
            "Claim                 0\n",
            "dtype: int64\n",
            " \n",
            "\n",
            " test set\n",
            "\n",
            "  Customer Id           0\n",
            "YearOfObservation     0\n",
            "Insured_Period        0\n",
            "Residential           0\n",
            "Building_Painted      0\n",
            "Building_Fenced       0\n",
            "Garden                0\n",
            "Settlement            0\n",
            "Building Dimension    0\n",
            "Building_Type         0\n",
            "NumberOfWindows       0\n",
            "Geo_Code              0\n",
            "Claim                 0\n",
            "dtype: int64\n"
          ]
        }
      ],
      "source": [
        "print(\" \\n Nombre des valeurs manquantes dans chaque colonnes\\n \")\n",
        "missing_values_train = train.isnull().sum()\n",
        "missing_values_test = test.isnull().sum()\n",
        "print(\"\\n Train set\\n\\n \" ,missing_values_train)\n",
        "print(\" \\n\\n test set\\n\\n \",missing_values_test)"
      ]
    },
    {
      "cell_type": "code",
      "execution_count": null,
      "metadata": {
        "id": "sXoblcAQ7kV5",
        "colab": {
          "base_uri": "https://localhost:8080/"
        },
        "outputId": "ff44f65d-1943-49fb-e256-2ae03c407d64"
      },
      "outputs": [
        {
          "output_type": "stream",
          "name": "stdout",
          "text": [
            "0       False\n",
            "1       False\n",
            "2       False\n",
            "3       False\n",
            "4       False\n",
            "        ...  \n",
            "5007    False\n",
            "5008    False\n",
            "5009    False\n",
            "5010    False\n",
            "5011    False\n",
            "Length: 5012, dtype: bool\n",
            "\n",
            "Number of duplicates: 0\n"
          ]
        }
      ],
      "source": [
        "duplicates = train.duplicated()\n",
        "print(duplicates)\n",
        "print(\"\\nNumber of duplicates:\", duplicates.sum())"
      ]
    },
    {
      "cell_type": "code",
      "execution_count": null,
      "metadata": {
        "scrolled": false,
        "id": "vA5Pkgyx7kV5",
        "colab": {
          "base_uri": "https://localhost:8080/",
          "height": 1000
        },
        "outputId": "02b0dff0-3b0b-476c-f3f4-ed84862071c6"
      },
      "outputs": [
        {
          "output_type": "display_data",
          "data": {
            "text/plain": [
              "<Figure size 500x500 with 1 Axes>"
            ],
            "image/png": "[encoded data removed]"
          },
          "metadata": {}
        },
        {
          "output_type": "display_data",
          "data": {
            "text/plain": [
              "<Figure size 500x500 with 1 Axes>"
            ],
            "image/png": "[encoded data removed]"
          },
          "metadata": {}
        },
        {
          "output_type": "display_data",
          "data": {
            "text/plain": [
              "<Figure size 500x500 with 1 Axes>"
            ],
            "image/png": "[encoded data removed]"
          },
          "metadata": {}
        },
        {
          "output_type": "display_data",
          "data": {
            "text/plain": [
              "<Figure size 500x500 with 1 Axes>"
            ],
            "image/png": "[encoded data removed]"
          },
          "metadata": {}
        }
      ],
      "source": [
        "for i in train:\n",
        "    if not (train[i].dtypes== 'object'):\n",
        "        sns.displot(train.loc[:, i], bins=25)\n",
        "        plt.show()"
      ]
    },
    {
      "cell_type": "code",
      "execution_count": null,
      "metadata": {
        "scrolled": false,
        "id": "Vq-f6HpI7kV6",
        "colab": {
          "base_uri": "https://localhost:8080/",
          "height": 1000
        },
        "outputId": "3bbfb58f-5acf-4347-d109-a40784b1b98e"
      },
      "outputs": [
        {
          "output_type": "display_data",
          "data": {
            "text/plain": [
              "<Figure size 500x500 with 1 Axes>"
            ],
            "image/png": "[encoded data removed]"
          },
          "metadata": {}
        },
        {
          "output_type": "display_data",
          "data": {
            "text/plain": [
              "<Figure size 500x500 with 1 Axes>"
            ],
            "image/png": "[encoded data removed]"
          },
          "metadata": {}
        },
        {
          "output_type": "display_data",
          "data": {
            "text/plain": [
              "<Figure size 500x500 with 1 Axes>"
            ],
            "image/png": "[encoded data removed]"
          },
          "metadata": {}
        },
        {
          "output_type": "display_data",
          "data": {
            "text/plain": [
              "<Figure size 500x500 with 1 Axes>"
            ],
            "image/png": "[encoded data removed]"
          },
          "metadata": {}
        }
      ],
      "source": [
        "for i in test:\n",
        "    if not (test[i].dtypes== 'object'):\n",
        "        sns.displot(test.loc[:, i], bins=25)\n",
        "        plt.show()"
      ]
    },
    {
      "cell_type": "code",
      "execution_count": null,
      "metadata": {
        "scrolled": false,
        "id": "OyHkwDDY7kV6",
        "colab": {
          "base_uri": "https://localhost:8080/",
          "height": 1000
        },
        "outputId": "2940e143-93b8-4122-9508-79735799e007"
      },
      "outputs": [
        {
          "output_type": "display_data",
          "data": {
            "text/plain": [
              "<Figure size 900x300 with 1 Axes>"
            ],
            "image/png": "[encoded data removed]"
          },
          "metadata": {}
        },
        {
          "output_type": "display_data",
          "data": {
            "text/plain": [
              "<Figure size 900x300 with 1 Axes>"
            ],
            "image/png": "[encoded data removed]"
          },
          "metadata": {}
        },
        {
          "output_type": "display_data",
          "data": {
            "text/plain": [
              "<Figure size 900x300 with 1 Axes>"
            ],
            "image/png": "[encoded data removed]"
          },
          "metadata": {}
        },
        {
          "output_type": "display_data",
          "data": {
            "text/plain": [
              "<Figure size 900x300 with 1 Axes>"
            ],
            "image/png": "[encoded data removed]"
          },
          "metadata": {}
        },
        {
          "output_type": "display_data",
          "data": {
            "text/plain": [
              "<Figure size 900x300 with 1 Axes>"
            ],
            "image/png": "[encoded data removed]"
          },
          "metadata": {}
        },
        {
          "output_type": "display_data",
          "data": {
            "text/plain": [
              "<Figure size 900x300 with 1 Axes>"
            ],
            "image/png": "[encoded data removed]"
          },
          "metadata": {}
        },
        {
          "output_type": "display_data",
          "data": {
            "text/plain": [
              "<Figure size 900x300 with 1 Axes>"
            ],
            "image/png": "[encoded data removed]"
          },
          "metadata": {}
        },
        {
          "output_type": "display_data",
          "data": {
            "text/plain": [
              "<Figure size 900x300 with 1 Axes>"
            ],
            "image/png": "[encoded data removed]"
          },
          "metadata": {}
        }
      ],
      "source": [
        "for i in train.drop(['Customer Id'],axis=1):\n",
        "    if (train[i].dtypes== 'object'):\n",
        "        plt.figure(figsize=(9,3))\n",
        "        sns.barplot(x=train[i].value_counts().index ,y=train[i].value_counts().values )\n",
        "        plt.title(i)\n",
        "        plt.tight_layout()\n",
        "        plt.show()"
      ]
    },
    {
      "cell_type": "code",
      "execution_count": null,
      "metadata": {
        "scrolled": false,
        "id": "IFCeuMWv7kV7",
        "colab": {
          "base_uri": "https://localhost:8080/",
          "height": 1000
        },
        "outputId": "2b7b6d58-0422-4468-86f3-e9844233f919"
      },
      "outputs": [
        {
          "output_type": "display_data",
          "data": {
            "text/plain": [
              "<Figure size 900x300 with 1 Axes>"
            ],
            "image/png": "[encoded data removed]"
          },
          "metadata": {}
        },
        {
          "output_type": "display_data",
          "data": {
            "text/plain": [
              "<Figure size 900x300 with 1 Axes>"
            ],
            "image/png": "[encoded data removed]"
          },
          "metadata": {}
        },
        {
          "output_type": "display_data",
          "data": {
            "text/plain": [
              "<Figure size 900x300 with 1 Axes>"
            ],
            "image/png": "[encoded data removed]"
          },
          "metadata": {}
        },
        {
          "output_type": "display_data",
          "data": {
            "text/plain": [
              "<Figure size 900x300 with 1 Axes>"
            ],
            "image/png": "[encoded data removed]"
          },
          "metadata": {}
        },
        {
          "output_type": "display_data",
          "data": {
            "text/plain": [
              "<Figure size 900x300 with 1 Axes>"
            ],
            "image/png": "[encoded data removed]"
          },
          "metadata": {}
        },
        {
          "output_type": "display_data",
          "data": {
            "text/plain": [
              "<Figure size 900x300 with 1 Axes>"
            ],
            "image/png": "[encoded data removed]"
          },
          "metadata": {}
        },
        {
          "output_type": "display_data",
          "data": {
            "text/plain": [
              "<Figure size 900x300 with 1 Axes>"
            ],
            "image/png": "[encoded data removed]"
          },
          "metadata": {}
        },
        {
          "output_type": "display_data",
          "data": {
            "text/plain": [
              "<Figure size 900x300 with 1 Axes>"
            ],
            "image/png": "[encoded data removed]"
          },
          "metadata": {}
        }
      ],
      "source": [
        "for i in test.drop(['Customer Id'],axis=1):\n",
        "    if (test[i].dtypes== 'object'):\n",
        "        plt.figure(figsize=(9,3))\n",
        "        sns.barplot(x=test[i].value_counts().index ,y=test[i].value_counts().values )\n",
        "        plt.title(i)\n",
        "        plt.tight_layout()\n",
        "        plt.show()"
      ]
    },
    {
      "cell_type": "code",
      "execution_count": null,
      "metadata": {
        "id": "s8UmLVp57kV7",
        "colab": {
          "base_uri": "https://localhost:8080/",
          "height": 458
        },
        "outputId": "f33cd749-58a1-41d1-a8e9-e6e0ce3a58a6"
      },
      "outputs": [
        {
          "output_type": "display_data",
          "data": {
            "text/plain": [
              "<Figure size 640x480 with 1 Axes>"
            ],
            "image/png": "[encoded data removed]"
          },
          "metadata": {}
        }
      ],
      "source": [
        "\n",
        "sns.set_theme(style=\"whitegrid\")\n",
        "ax = sns.boxplot(x=train['Building Dimension'])\n",
        "plt.show()"
      ]
    },
    {
      "cell_type": "code",
      "execution_count": null,
      "metadata": {
        "id": "7osvhP8N7kV8",
        "colab": {
          "base_uri": "https://localhost:8080/",
          "height": 458
        },
        "outputId": "03a44fd8-5932-49d5-ca3c-81b71ec08fe4"
      },
      "outputs": [
        {
          "output_type": "display_data",
          "data": {
            "text/plain": [
              "<Figure size 640x480 with 1 Axes>"
            ],
            "image/png": "[encoded data removed]"
          },
          "metadata": {}
        }
      ],
      "source": [
        "\n",
        "sns.set_theme(style=\"whitegrid\")\n",
        "ax = sns.boxplot(x=test['Building Dimension'])\n",
        "plt.show()"
      ]
    },
    {
      "cell_type": "code",
      "execution_count": null,
      "metadata": {
        "id": "90dBoDmY7kV8",
        "colab": {
          "base_uri": "https://localhost:8080/"
        },
        "outputId": "63f0b760-36c0-4174-90a2-2a2f5db5188a"
      },
      "outputs": [
        {
          "output_type": "execute_result",
          "data": {
            "text/plain": [
              "0       1240.000000\n",
              "1        900.000000\n",
              "2       1100.000000\n",
              "3        600.000000\n",
              "4        900.000000\n",
              "           ...     \n",
              "5007     550.000000\n",
              "5008    1000.000000\n",
              "5009     480.000000\n",
              "5010     536.000000\n",
              "5011    1876.898683\n",
              "Name: Building Dimension, Length: 5012, dtype: float64"
            ]
          },
          "metadata": {},
          "execution_count": 163
        }
      ],
      "source": [
        "valeurs_aberrantes = train[train['Building Dimension'] > train['Building Dimension'].quantile(0.75) + 1.5*(train['Building Dimension'].quantile(0.75) - train['Building Dimension'].quantile(0.25))]['Building Dimension']\n",
        "\n",
        "# Remplacer les valeurs aberrantes par la médiane des valeurs non aberrantes\n",
        "train.loc[train['Building Dimension'].isin(valeurs_aberrantes), 'Building Dimension'] = np.median(train['Building Dimension'])\n",
        "\n",
        "# Afficher le DataFrame mis à jour\n",
        "train['Building Dimension']"
      ]
    },
    {
      "cell_type": "code",
      "execution_count": null,
      "metadata": {
        "id": "a9_0_Nzo7kV9",
        "colab": {
          "base_uri": "https://localhost:8080/"
        },
        "outputId": "30b85e2a-9766-4e11-ca06-62c310a61ec7"
      },
      "outputs": [
        {
          "output_type": "execute_result",
          "data": {
            "text/plain": [
              "1117.000000    168\n",
              "400.000000      53\n",
              "300.000000      40\n",
              "500.000000      37\n",
              "1899.700189     29\n",
              "              ... \n",
              "3241.000000      1\n",
              "635.000000       1\n",
              "288.000000       1\n",
              "838.000000       1\n",
              "862.000000       1\n",
              "Name: Building Dimension, Length: 834, dtype: int64"
            ]
          },
          "metadata": {},
          "execution_count": 164
        }
      ],
      "source": [
        "valeurs_aberrantes = test[test['Building Dimension'] > test['Building Dimension'].quantile(0.75) + 1.5*(test['Building Dimension'].quantile(0.75) - test['Building Dimension'].quantile(0.25))]['Building Dimension']\n",
        "\n",
        "# Remplacer les valeurs aberrantes par la médiane des valeurs non aberrantes\n",
        "test.loc[test['Building Dimension'].isin(valeurs_aberrantes), 'Building Dimension'] = np.median(test['Building Dimension'])\n",
        "\n",
        "# Afficher le DataFrame mis à jour\n",
        "test['Building Dimension'].value_counts()"
      ]
    },
    {
      "cell_type": "code",
      "execution_count": null,
      "metadata": {
        "id": "jDnPvcdo7kV9",
        "colab": {
          "base_uri": "https://localhost:8080/",
          "height": 300
        },
        "outputId": "94ec3bd5-5cf5-4df4-975d-bd34cedb80be"
      },
      "outputs": [
        {
          "output_type": "execute_result",
          "data": {
            "text/plain": [
              "       YearOfObservation  Insured_Period  Residential  Building Dimension\n",
              "count        5012.000000     5012.000000  5012.000000         5012.000000\n",
              "mean         2013.660215        0.869713     0.301077         1335.372346\n",
              "std             1.383134        0.219496     0.458772         1060.123309\n",
              "min          2012.000000        0.500000     0.000000            1.000000\n",
              "25%          2012.000000        0.500000     0.000000          530.000000\n",
              "50%          2013.000000        1.000000     0.000000         1100.000000\n",
              "75%          2015.000000        1.000000     1.000000         1842.750000\n",
              "max          2016.000000        1.000000     1.000000         4830.000000"
            ],
            "text/html": [
              "\n",
              "  <div id=\"df-e9b7e347-b116-4d16-b7ba-deb1d1efae37\">\n",
              "    <div class=\"colab-df-container\">\n",
              "      <div>\n",
              "<style scoped>\n",
              "    .dataframe tbody tr th:only-of-type {\n",
              "        vertical-align: middle;\n",
              "    }\n",
              "\n",
              "    .dataframe tbody tr th {\n",
              "        vertical-align: top;\n",
              "    }\n",
              "\n",
              "    .dataframe thead th {\n",
              "        text-align: right;\n",
              "    }\n",
              "</style>\n",
              "<table border=\"1\" class=\"dataframe\">\n",
              "  <thead>\n",
              "    <tr style=\"text-align: right;\">\n",
              "      <th></th>\n",
              "      <th>YearOfObservation</th>\n",
              "      <th>Insured_Period</th>\n",
              "      <th>Residential</th>\n",
              "      <th>Building Dimension</th>\n",
              "    </tr>\n",
              "  </thead>\n",
              "  <tbody>\n",
              "    <tr>\n",
              "      <th>count</th>\n",
              "      <td>5012.000000</td>\n",
              "      <td>5012.000000</td>\n",
              "      <td>5012.000000</td>\n",
              "      <td>5012.000000</td>\n",
              "    </tr>\n",
              "    <tr>\n",
              "      <th>mean</th>\n",
              "      <td>2013.660215</td>\n",
              "      <td>0.869713</td>\n",
              "      <td>0.301077</td>\n",
              "      <td>1335.372346</td>\n",
              "    </tr>\n",
              "    <tr>\n",
              "      <th>std</th>\n",
              "      <td>1.383134</td>\n",
              "      <td>0.219496</td>\n",
              "      <td>0.458772</td>\n",
              "      <td>1060.123309</td>\n",
              "    </tr>\n",
              "    <tr>\n",
              "      <th>min</th>\n",
              "      <td>2012.000000</td>\n",
              "      <td>0.500000</td>\n",
              "      <td>0.000000</td>\n",
              "      <td>1.000000</td>\n",
              "    </tr>\n",
              "    <tr>\n",
              "      <th>25%</th>\n",
              "      <td>2012.000000</td>\n",
              "      <td>0.500000</td>\n",
              "      <td>0.000000</td>\n",
              "      <td>530.000000</td>\n",
              "    </tr>\n",
              "    <tr>\n",
              "      <th>50%</th>\n",
              "      <td>2013.000000</td>\n",
              "      <td>1.000000</td>\n",
              "      <td>0.000000</td>\n",
              "      <td>1100.000000</td>\n",
              "    </tr>\n",
              "    <tr>\n",
              "      <th>75%</th>\n",
              "      <td>2015.000000</td>\n",
              "      <td>1.000000</td>\n",
              "      <td>1.000000</td>\n",
              "      <td>1842.750000</td>\n",
              "    </tr>\n",
              "    <tr>\n",
              "      <th>max</th>\n",
              "      <td>2016.000000</td>\n",
              "      <td>1.000000</td>\n",
              "      <td>1.000000</td>\n",
              "      <td>4830.000000</td>\n",
              "    </tr>\n",
              "  </tbody>\n",
              "</table>\n",
              "</div>\n",
              "      <button class=\"colab-df-convert\" onclick=\"convertToInteractive('df-e9b7e347-b116-4d16-b7ba-deb1d1efae37')\"\n",
              "              title=\"Convert this dataframe to an interactive table.\"\n",
              "              style=\"display:none;\">\n",
              "        \n",
              "  <svg xmlns=\"http://www.w3.org/2000/svg\" height=\"24px\"viewBox=\"0 0 24 24\"\n",
              "       width=\"24px\">\n",
              "    <path d=\"M0 0h24v24H0V0z\" fill=\"none\"/>\n",
              "    <path d=\"M18.56 5.44l.94 2.06.94-2.06 2.06-.94-2.06-.94-.94-2.06-.94 2.06-2.06.94zm-11 1L8.5 8.5l.94-2.06 2.06-.94-2.06-.94L8.5 2.5l-.94 2.06-2.06.94zm10 10l.94 2.06.94-2.06 2.06-.94-2.06-.94-.94-2.06-.94 2.06-2.06.94z\"/><path d=\"M17.41 7.96l-1.37-1.37c-.4-.4-.92-.59-1.43-.59-.52 0-1.04.2-1.43.59L10.3 9.45l-7.72 7.72c-.78.78-.78 2.05 0 2.83L4 21.41c.39.39.9.59 1.41.59.51 0 1.02-.2 1.41-.59l7.78-7.78 2.81-2.81c.8-.78.8-2.07 0-2.86zM5.41 20L4 18.59l7.72-7.72 1.47 1.35L5.41 20z\"/>\n",
              "  </svg>\n",
              "      </button>\n",
              "      \n",
              "  <style>\n",
              "    .colab-df-container {\n",
              "      display:flex;\n",
              "      flex-wrap:wrap;\n",
              "      gap: 12px;\n",
              "    }\n",
              "\n",
              "    .colab-df-convert {\n",
              "      background-color: #E8F0FE;\n",
              "      border: none;\n",
              "      border-radius: 50%;\n",
              "      cursor: pointer;\n",
              "      display: none;\n",
              "      fill: #1967D2;\n",
              "      height: 32px;\n",
              "      padding: 0 0 0 0;\n",
              "      width: 32px;\n",
              "    }\n",
              "\n",
              "    .colab-df-convert:hover {\n",
              "      background-color: #E2EBFA;\n",
              "      box-shadow: 0px 1px 2px rgba(60, 64, 67, 0.3), 0px 1px 3px 1px rgba(60, 64, 67, 0.15);\n",
              "      fill: #174EA6;\n",
              "    }\n",
              "\n",
              "    [theme=dark] .colab-df-convert {\n",
              "      background-color: #3B4455;\n",
              "      fill: #D2E3FC;\n",
              "    }\n",
              "\n",
              "    [theme=dark] .colab-df-convert:hover {\n",
              "      background-color: #434B5C;\n",
              "      box-shadow: 0px 1px 3px 1px rgba(0, 0, 0, 0.15);\n",
              "      filter: drop-shadow(0px 1px 2px rgba(0, 0, 0, 0.3));\n",
              "      fill: #FFFFFF;\n",
              "    }\n",
              "  </style>\n",
              "\n",
              "      <script>\n",
              "        const buttonEl =\n",
              "          document.querySelector('#df-e9b7e347-b116-4d16-b7ba-deb1d1efae37 button.colab-df-convert');\n",
              "        buttonEl.style.display =\n",
              "          google.colab.kernel.accessAllowed ? 'block' : 'none';\n",
              "\n",
              "        async function convertToInteractive(key) {\n",
              "          const element = document.querySelector('#df-e9b7e347-b116-4d16-b7ba-deb1d1efae37');\n",
              "          const dataTable =\n",
              "            await google.colab.kernel.invokeFunction('convertToInteractive',\n",
              "                                                     [key], {});\n",
              "          if (!dataTable) return;\n",
              "\n",
              "          const docLinkHtml = 'Like what you see? Visit the ' +\n",
              "            '<a target=\"_blank\" href=https://colab.research.google.com/notebooks/data_table.ipynb>data table notebook</a>'\n",
              "            + ' to learn more about interactive tables.';\n",
              "          element.innerHTML = '';\n",
              "          dataTable['output_type'] = 'display_data';\n",
              "          await google.colab.output.renderOutput(dataTable, element);\n",
              "          const docLink = document.createElement('div');\n",
              "          docLink.innerHTML = docLinkHtml;\n",
              "          element.appendChild(docLink);\n",
              "        }\n",
              "      </script>\n",
              "    </div>\n",
              "  </div>\n",
              "  "
            ]
          },
          "metadata": {},
          "execution_count": 165
        }
      ],
      "source": [
        "train.describe()"
      ]
    },
    {
      "cell_type": "code",
      "execution_count": null,
      "metadata": {
        "id": "hK5EHOiW7kV9",
        "colab": {
          "base_uri": "https://localhost:8080/",
          "height": 300
        },
        "outputId": "ba47e172-8563-467b-f8a1-7d0ef55019c2"
      },
      "outputs": [
        {
          "output_type": "execute_result",
          "data": {
            "text/plain": [
              "       YearOfObservation  Insured_Period  Residential  Building Dimension\n",
              "count        2147.000000     2147.000000  2147.000000         2147.000000\n",
              "mean         2013.691197        0.876805     0.315789         1359.153379\n",
              "std             1.385631        0.215504     0.464938         1069.585764\n",
              "min          2012.000000        0.500000     0.000000           10.000000\n",
              "25%          2012.000000        1.000000     0.000000          541.000000\n",
              "50%          2013.000000        1.000000     0.000000         1117.000000\n",
              "75%          2015.000000        1.000000     1.000000         1883.500000\n",
              "max          2016.000000        1.000000     1.000000         4863.000000"
            ],
            "text/html": [
              "\n",
              "  <div id=\"df-086a8304-1f8d-4f6c-ac91-2e0dd5736080\">\n",
              "    <div class=\"colab-df-container\">\n",
              "      <div>\n",
              "<style scoped>\n",
              "    .dataframe tbody tr th:only-of-type {\n",
              "        vertical-align: middle;\n",
              "    }\n",
              "\n",
              "    .dataframe tbody tr th {\n",
              "        vertical-align: top;\n",
              "    }\n",
              "\n",
              "    .dataframe thead th {\n",
              "        text-align: right;\n",
              "    }\n",
              "</style>\n",
              "<table border=\"1\" class=\"dataframe\">\n",
              "  <thead>\n",
              "    <tr style=\"text-align: right;\">\n",
              "      <th></th>\n",
              "      <th>YearOfObservation</th>\n",
              "      <th>Insured_Period</th>\n",
              "      <th>Residential</th>\n",
              "      <th>Building Dimension</th>\n",
              "    </tr>\n",
              "  </thead>\n",
              "  <tbody>\n",
              "    <tr>\n",
              "      <th>count</th>\n",
              "      <td>2147.000000</td>\n",
              "      <td>2147.000000</td>\n",
              "      <td>2147.000000</td>\n",
              "      <td>2147.000000</td>\n",
              "    </tr>\n",
              "    <tr>\n",
              "      <th>mean</th>\n",
              "      <td>2013.691197</td>\n",
              "      <td>0.876805</td>\n",
              "      <td>0.315789</td>\n",
              "      <td>1359.153379</td>\n",
              "    </tr>\n",
              "    <tr>\n",
              "      <th>std</th>\n",
              "      <td>1.385631</td>\n",
              "      <td>0.215504</td>\n",
              "      <td>0.464938</td>\n",
              "      <td>1069.585764</td>\n",
              "    </tr>\n",
              "    <tr>\n",
              "      <th>min</th>\n",
              "      <td>2012.000000</td>\n",
              "      <td>0.500000</td>\n",
              "      <td>0.000000</td>\n",
              "      <td>10.000000</td>\n",
              "    </tr>\n",
              "    <tr>\n",
              "      <th>25%</th>\n",
              "      <td>2012.000000</td>\n",
              "      <td>1.000000</td>\n",
              "      <td>0.000000</td>\n",
              "      <td>541.000000</td>\n",
              "    </tr>\n",
              "    <tr>\n",
              "      <th>50%</th>\n",
              "      <td>2013.000000</td>\n",
              "      <td>1.000000</td>\n",
              "      <td>0.000000</td>\n",
              "      <td>1117.000000</td>\n",
              "    </tr>\n",
              "    <tr>\n",
              "      <th>75%</th>\n",
              "      <td>2015.000000</td>\n",
              "      <td>1.000000</td>\n",
              "      <td>1.000000</td>\n",
              "      <td>1883.500000</td>\n",
              "    </tr>\n",
              "    <tr>\n",
              "      <th>max</th>\n",
              "      <td>2016.000000</td>\n",
              "      <td>1.000000</td>\n",
              "      <td>1.000000</td>\n",
              "      <td>4863.000000</td>\n",
              "    </tr>\n",
              "  </tbody>\n",
              "</table>\n",
              "</div>\n",
              "      <button class=\"colab-df-convert\" onclick=\"convertToInteractive('df-086a8304-1f8d-4f6c-ac91-2e0dd5736080')\"\n",
              "              title=\"Convert this dataframe to an interactive table.\"\n",
              "              style=\"display:none;\">\n",
              "        \n",
              "  <svg xmlns=\"http://www.w3.org/2000/svg\" height=\"24px\"viewBox=\"0 0 24 24\"\n",
              "       width=\"24px\">\n",
              "    <path d=\"M0 0h24v24H0V0z\" fill=\"none\"/>\n",
              "    <path d=\"M18.56 5.44l.94 2.06.94-2.06 2.06-.94-2.06-.94-.94-2.06-.94 2.06-2.06.94zm-11 1L8.5 8.5l.94-2.06 2.06-.94-2.06-.94L8.5 2.5l-.94 2.06-2.06.94zm10 10l.94 2.06.94-2.06 2.06-.94-2.06-.94-.94-2.06-.94 2.06-2.06.94z\"/><path d=\"M17.41 7.96l-1.37-1.37c-.4-.4-.92-.59-1.43-.59-.52 0-1.04.2-1.43.59L10.3 9.45l-7.72 7.72c-.78.78-.78 2.05 0 2.83L4 21.41c.39.39.9.59 1.41.59.51 0 1.02-.2 1.41-.59l7.78-7.78 2.81-2.81c.8-.78.8-2.07 0-2.86zM5.41 20L4 18.59l7.72-7.72 1.47 1.35L5.41 20z\"/>\n",
              "  </svg>\n",
              "      </button>\n",
              "      \n",
              "  <style>\n",
              "    .colab-df-container {\n",
              "      display:flex;\n",
              "      flex-wrap:wrap;\n",
              "      gap: 12px;\n",
              "    }\n",
              "\n",
              "    .colab-df-convert {\n",
              "      background-color: #E8F0FE;\n",
              "      border: none;\n",
              "      border-radius: 50%;\n",
              "      cursor: pointer;\n",
              "      display: none;\n",
              "      fill: #1967D2;\n",
              "      height: 32px;\n",
              "      padding: 0 0 0 0;\n",
              "      width: 32px;\n",
              "    }\n",
              "\n",
              "    .colab-df-convert:hover {\n",
              "      background-color: #E2EBFA;\n",
              "      box-shadow: 0px 1px 2px rgba(60, 64, 67, 0.3), 0px 1px 3px 1px rgba(60, 64, 67, 0.15);\n",
              "      fill: #174EA6;\n",
              "    }\n",
              "\n",
              "    [theme=dark] .colab-df-convert {\n",
              "      background-color: #3B4455;\n",
              "      fill: #D2E3FC;\n",
              "    }\n",
              "\n",
              "    [theme=dark] .colab-df-convert:hover {\n",
              "      background-color: #434B5C;\n",
              "      box-shadow: 0px 1px 3px 1px rgba(0, 0, 0, 0.15);\n",
              "      filter: drop-shadow(0px 1px 2px rgba(0, 0, 0, 0.3));\n",
              "      fill: #FFFFFF;\n",
              "    }\n",
              "  </style>\n",
              "\n",
              "      <script>\n",
              "        const buttonEl =\n",
              "          document.querySelector('#df-086a8304-1f8d-4f6c-ac91-2e0dd5736080 button.colab-df-convert');\n",
              "        buttonEl.style.display =\n",
              "          google.colab.kernel.accessAllowed ? 'block' : 'none';\n",
              "\n",
              "        async function convertToInteractive(key) {\n",
              "          const element = document.querySelector('#df-086a8304-1f8d-4f6c-ac91-2e0dd5736080');\n",
              "          const dataTable =\n",
              "            await google.colab.kernel.invokeFunction('convertToInteractive',\n",
              "                                                     [key], {});\n",
              "          if (!dataTable) return;\n",
              "\n",
              "          const docLinkHtml = 'Like what you see? Visit the ' +\n",
              "            '<a target=\"_blank\" href=https://colab.research.google.com/notebooks/data_table.ipynb>data table notebook</a>'\n",
              "            + ' to learn more about interactive tables.';\n",
              "          element.innerHTML = '';\n",
              "          dataTable['output_type'] = 'display_data';\n",
              "          await google.colab.output.renderOutput(dataTable, element);\n",
              "          const docLink = document.createElement('div');\n",
              "          docLink.innerHTML = docLinkHtml;\n",
              "          element.appendChild(docLink);\n",
              "        }\n",
              "      </script>\n",
              "    </div>\n",
              "  </div>\n",
              "  "
            ]
          },
          "metadata": {},
          "execution_count": 166
        }
      ],
      "source": [
        "test.describe()"
      ]
    },
    {
      "cell_type": "code",
      "execution_count": null,
      "metadata": {
        "scrolled": false,
        "id": "1gaX5Qe97kV-",
        "colab": {
          "base_uri": "https://localhost:8080/",
          "height": 1000
        },
        "outputId": "219a1af5-d3f6-48e4-bf98-5f1e1e97af19"
      },
      "outputs": [
        {
          "output_type": "display_data",
          "data": {
            "text/plain": [
              "<Figure size 500x500 with 1 Axes>"
            ],
            "image/png": "[encoded data removed]"
          },
          "metadata": {}
        },
        {
          "output_type": "display_data",
          "data": {
            "text/plain": [
              "<Figure size 500x500 with 1 Axes>"
            ],
            "image/png": "[encoded data removed]"
          },
          "metadata": {}
        },
        {
          "output_type": "display_data",
          "data": {
            "text/plain": [
              "<Figure size 500x500 with 1 Axes>"
            ],
            "image/png": "[encoded data removed]"
          },
          "metadata": {}
        },
        {
          "output_type": "display_data",
          "data": {
            "text/plain": [
              "<Figure size 500x500 with 1 Axes>"
            ],
            "image/png": "[encoded data removed]"
          },
          "metadata": {}
        }
      ],
      "source": [
        "for i in train:\n",
        "    if not (train[i].dtypes== 'object'):\n",
        "        sns.displot(train.loc[:, i], bins=25)\n",
        "        plt.show()"
      ]
    },
    {
      "cell_type": "code",
      "execution_count": null,
      "metadata": {
        "scrolled": false,
        "id": "fCjOmTi77kV-",
        "colab": {
          "base_uri": "https://localhost:8080/",
          "height": 1000
        },
        "outputId": "709d5415-1de8-4b3f-c7d7-b4023de69bd4"
      },
      "outputs": [
        {
          "output_type": "display_data",
          "data": {
            "text/plain": [
              "<Figure size 500x500 with 1 Axes>"
            ],
            "image/png": "[encoded data removed]"
          },
          "metadata": {}
        },
        {
          "output_type": "display_data",
          "data": {
            "text/plain": [
              "<Figure size 500x500 with 1 Axes>"
            ],
            "image/png": "[encoded data removed]"
          },
          "metadata": {}
        },
        {
          "output_type": "display_data",
          "data": {
            "text/plain": [
              "<Figure size 500x500 with 1 Axes>"
            ],
            "image/png": "[encoded data removed]"
          },
          "metadata": {}
        },
        {
          "output_type": "display_data",
          "data": {
            "text/plain": [
              "<Figure size 500x500 with 1 Axes>"
            ],
            "image/png": "[encoded data removed]"
          },
          "metadata": {}
        }
      ],
      "source": [
        "for i in test:\n",
        "    if not (test[i].dtypes== 'object'):\n",
        "        sns.displot(test.loc[:, i], bins=25)\n",
        "        plt.show()"
      ]
    },
    {
      "cell_type": "code",
      "execution_count": null,
      "metadata": {
        "id": "pyTV7cdA7kV-"
      },
      "outputs": [],
      "source": []
    },
    {
      "cell_type": "code",
      "execution_count": null,
      "metadata": {
        "id": "jy0oCicz7kV-",
        "colab": {
          "base_uri": "https://localhost:8080/"
        },
        "outputId": "efd81579-5436-4772-982b-5238620ac1a2"
      },
      "outputs": [
        {
          "output_type": "stream",
          "name": "stderr",
          "text": [
            "/usr/local/lib/python3.10/dist-packages/sklearn/preprocessing/_label.py:116: DataConversionWarning: A column-vector y was passed when a 1d array was expected. Please change the shape of y to (n_samples, ), for example using ravel().\n",
            "  y = column_or_1d(y, warn=True)\n",
            "/usr/local/lib/python3.10/dist-packages/sklearn/preprocessing/_label.py:116: DataConversionWarning: A column-vector y was passed when a 1d array was expected. Please change the shape of y to (n_samples, ), for example using ravel().\n",
            "  y = column_or_1d(y, warn=True)\n"
          ]
        },
        {
          "output_type": "execute_result",
          "data": {
            "text/plain": [
              "Building_Painted    0\n",
              "dtype: int64"
            ]
          },
          "metadata": {},
          "execution_count": 169
        }
      ],
      "source": [
        "\n",
        "enc = LabelEncoder()\n",
        "train[['Building_Painted']]=pd.DataFrame(enc.fit_transform(train[['Building_Painted']]), columns= ['Building_Painted'])\n",
        "train[['Building_Painted']]\n",
        "test[['Building_Painted']]=pd.DataFrame(enc.fit_transform(test[['Building_Painted']]), columns= ['Building_Painted'])\n",
        "test[['Building_Painted']].isnull().sum()"
      ]
    },
    {
      "cell_type": "code",
      "execution_count": null,
      "metadata": {
        "id": "fLr1S83H7kV-",
        "colab": {
          "base_uri": "https://localhost:8080/"
        },
        "outputId": "58f3ec75-5bea-4105-d88c-ad91aded946a"
      },
      "outputs": [
        {
          "output_type": "stream",
          "name": "stderr",
          "text": [
            "/usr/local/lib/python3.10/dist-packages/sklearn/preprocessing/_label.py:116: DataConversionWarning: A column-vector y was passed when a 1d array was expected. Please change the shape of y to (n_samples, ), for example using ravel().\n",
            "  y = column_or_1d(y, warn=True)\n",
            "/usr/local/lib/python3.10/dist-packages/sklearn/preprocessing/_label.py:116: DataConversionWarning: A column-vector y was passed when a 1d array was expected. Please change the shape of y to (n_samples, ), for example using ravel().\n",
            "  y = column_or_1d(y, warn=True)\n"
          ]
        },
        {
          "output_type": "execute_result",
          "data": {
            "text/plain": [
              "Building_Fenced    0\n",
              "dtype: int64"
            ]
          },
          "metadata": {},
          "execution_count": 170
        }
      ],
      "source": [
        "train[['Building_Fenced']]=pd.DataFrame(enc.fit_transform(train[['Building_Fenced']]), columns= ['Building_Fenced'])\n",
        "train[['Building_Fenced']]\n",
        "test[['Building_Fenced']]=pd.DataFrame(enc.fit_transform(test[['Building_Fenced']]), columns= ['Building_Fenced'])\n",
        "test[['Building_Fenced']].isnull().sum()"
      ]
    },
    {
      "cell_type": "code",
      "execution_count": null,
      "metadata": {
        "scrolled": false,
        "id": "TcUd6IqO7kV_",
        "colab": {
          "base_uri": "https://localhost:8080/"
        },
        "outputId": "01ba2fdc-9268-482d-b7b1-b00560c9540c"
      },
      "outputs": [
        {
          "output_type": "stream",
          "name": "stderr",
          "text": [
            "/usr/local/lib/python3.10/dist-packages/sklearn/preprocessing/_label.py:116: DataConversionWarning: A column-vector y was passed when a 1d array was expected. Please change the shape of y to (n_samples, ), for example using ravel().\n",
            "  y = column_or_1d(y, warn=True)\n",
            "/usr/local/lib/python3.10/dist-packages/sklearn/preprocessing/_label.py:116: DataConversionWarning: A column-vector y was passed when a 1d array was expected. Please change the shape of y to (n_samples, ), for example using ravel().\n",
            "  y = column_or_1d(y, warn=True)\n"
          ]
        },
        {
          "output_type": "execute_result",
          "data": {
            "text/plain": [
              "Garden    0\n",
              "dtype: int64"
            ]
          },
          "metadata": {},
          "execution_count": 171
        }
      ],
      "source": [
        "train[['Garden']]=pd.DataFrame(enc.fit_transform(train[['Garden']]), columns= ['Garden'])\n",
        "train[['Garden']]\n",
        "test[['Garden']]=pd.DataFrame(enc.fit_transform(test[['Garden']]), columns= ['Garden'])\n",
        "test[['Garden']].isnull().sum()"
      ]
    },
    {
      "cell_type": "code",
      "execution_count": null,
      "metadata": {
        "id": "XY7BCTpg7kV_",
        "colab": {
          "base_uri": "https://localhost:8080/"
        },
        "outputId": "bc241c91-41a6-47cb-a653-62bc34a9abd2"
      },
      "outputs": [
        {
          "output_type": "stream",
          "name": "stderr",
          "text": [
            "/usr/local/lib/python3.10/dist-packages/sklearn/preprocessing/_label.py:116: DataConversionWarning: A column-vector y was passed when a 1d array was expected. Please change the shape of y to (n_samples, ), for example using ravel().\n",
            "  y = column_or_1d(y, warn=True)\n",
            "/usr/local/lib/python3.10/dist-packages/sklearn/preprocessing/_label.py:116: DataConversionWarning: A column-vector y was passed when a 1d array was expected. Please change the shape of y to (n_samples, ), for example using ravel().\n",
            "  y = column_or_1d(y, warn=True)\n"
          ]
        },
        {
          "output_type": "execute_result",
          "data": {
            "text/plain": [
              "Settlement    0\n",
              "dtype: int64"
            ]
          },
          "metadata": {},
          "execution_count": 172
        }
      ],
      "source": [
        "train[['Settlement']]=pd.DataFrame(enc.fit_transform(train[['Settlement']]), columns= ['Settlement'])\n",
        "train[['Settlement']]\n",
        "test[['Settlement']]=pd.DataFrame(enc.fit_transform(test[['Settlement']]), columns= ['Settlement'])\n",
        "test[['Settlement']].isnull().sum()"
      ]
    },
    {
      "cell_type": "code",
      "execution_count": null,
      "metadata": {
        "id": "9Xvvkm4Y7kV_",
        "colab": {
          "base_uri": "https://localhost:8080/"
        },
        "outputId": "ec97f533-5e76-472f-c879-7f7c06a74ce0"
      },
      "outputs": [
        {
          "output_type": "stream",
          "name": "stderr",
          "text": [
            "/usr/local/lib/python3.10/dist-packages/sklearn/preprocessing/_label.py:116: DataConversionWarning: A column-vector y was passed when a 1d array was expected. Please change the shape of y to (n_samples, ), for example using ravel().\n",
            "  y = column_or_1d(y, warn=True)\n",
            "/usr/local/lib/python3.10/dist-packages/sklearn/preprocessing/_label.py:116: DataConversionWarning: A column-vector y was passed when a 1d array was expected. Please change the shape of y to (n_samples, ), for example using ravel().\n",
            "  y = column_or_1d(y, warn=True)\n"
          ]
        },
        {
          "output_type": "execute_result",
          "data": {
            "text/plain": [
              "Building_Type    0\n",
              "dtype: int64"
            ]
          },
          "metadata": {},
          "execution_count": 173
        }
      ],
      "source": [
        "train[['Building_Type']]=pd.DataFrame(enc.fit_transform(train[['Building_Type']]), columns= ['Building_Type'])\n",
        "train[['Building_Type']]\n",
        "test[['Building_Type']]=pd.DataFrame(enc.fit_transform(test[['Building_Type']]), columns= ['Building_Type'])\n",
        "test[['Building_Type']].isnull().sum()\n"
      ]
    },
    {
      "cell_type": "code",
      "execution_count": null,
      "metadata": {
        "id": "dFyBSsd37kWA",
        "colab": {
          "base_uri": "https://localhost:8080/"
        },
        "outputId": "e529de88-d27c-48d6-bf92-eeb3c5040af7"
      },
      "outputs": [
        {
          "output_type": "execute_result",
          "data": {
            "text/plain": [
              "Building_Type\n",
              "1                2310\n",
              "0                1205\n",
              "2                 854\n",
              "3                 643\n",
              "dtype: int64"
            ]
          },
          "metadata": {},
          "execution_count": 174
        }
      ],
      "source": [
        "train[['Building_Type']].value_counts()"
      ]
    },
    {
      "cell_type": "code",
      "execution_count": null,
      "metadata": {
        "id": "Z0HemdzR3iE2",
        "colab": {
          "base_uri": "https://localhost:8080/"
        },
        "outputId": "b440cce3-586d-4b0d-dfa2-653394a39e4a"
      },
      "outputs": [
        {
          "output_type": "execute_result",
          "data": {
            "text/plain": [
              "NumberOfWindows    0\n",
              "dtype: int64"
            ]
          },
          "metadata": {},
          "execution_count": 175
        }
      ],
      "source": [
        "train[['NumberOfWindows']]=train[['NumberOfWindows']].replace('without', 0)\n",
        "test[['NumberOfWindows']]=test[['NumberOfWindows']].replace('without', 0)\n",
        "train[['NumberOfWindows']]=train[['NumberOfWindows']].replace('>=10', 10)\n",
        "test[['NumberOfWindows']]=test[['NumberOfWindows']].replace('>=10', 10)\n",
        "train[['NumberOfWindows']].isnull().sum()"
      ]
    },
    {
      "cell_type": "code",
      "execution_count": null,
      "metadata": {
        "id": "XxQ5pTdpp8zo",
        "colab": {
          "base_uri": "https://localhost:8080/"
        },
        "outputId": "8e0d165f-0099-41a9-a47c-353db065d631"
      },
      "outputs": [
        {
          "output_type": "stream",
          "name": "stderr",
          "text": [
            "/usr/local/lib/python3.10/dist-packages/sklearn/preprocessing/_label.py:116: DataConversionWarning: A column-vector y was passed when a 1d array was expected. Please change the shape of y to (n_samples, ), for example using ravel().\n",
            "  y = column_or_1d(y, warn=True)\n",
            "/usr/local/lib/python3.10/dist-packages/sklearn/preprocessing/_label.py:116: DataConversionWarning: A column-vector y was passed when a 1d array was expected. Please change the shape of y to (n_samples, ), for example using ravel().\n",
            "  y = column_or_1d(y, warn=True)\n"
          ]
        },
        {
          "output_type": "execute_result",
          "data": {
            "text/plain": [
              "Claim    0\n",
              "dtype: int64"
            ]
          },
          "metadata": {},
          "execution_count": 176
        }
      ],
      "source": [
        "train[['Claim']]=pd.DataFrame(enc.fit_transform(train[['Claim']]), columns= ['Claim'])\n",
        "train[['Claim']]\n",
        "test[['Claim']]=pd.DataFrame(enc.fit_transform(test[['Claim']]), columns= ['Claim'])\n",
        "test[['Claim']].isnull().sum()\n"
      ]
    },
    {
      "cell_type": "code",
      "source": [
        "train[['Geo_Code']]=pd.DataFrame(enc.fit_transform(train[['Geo_Code']]), columns= ['Geo_Code'])\n",
        "train[['Claim']]\n",
        "test[['Geo_Code']]=pd.DataFrame(enc.fit_transform(test[['Geo_Code']]), columns= ['Geo_Code'])\n",
        "test[['Geo_Code']].value_counts()"
      ],
      "metadata": {
        "id": "rMCaVeAMNm7i",
        "colab": {
          "base_uri": "https://localhost:8080/"
        },
        "outputId": "0965d4ee-fbd5-4aed-e4d3-49984b375b69"
      },
      "execution_count": null,
      "outputs": [
        {
          "output_type": "stream",
          "name": "stderr",
          "text": [
            "/usr/local/lib/python3.10/dist-packages/sklearn/preprocessing/_label.py:116: DataConversionWarning: A column-vector y was passed when a 1d array was expected. Please change the shape of y to (n_samples, ), for example using ravel().\n",
            "  y = column_or_1d(y, warn=True)\n",
            "/usr/local/lib/python3.10/dist-packages/sklearn/preprocessing/_label.py:116: DataConversionWarning: A column-vector y was passed when a 1d array was expected. Please change the shape of y to (n_samples, ), for example using ravel().\n",
            "  y = column_or_1d(y, warn=True)\n"
          ]
        },
        {
          "output_type": "execute_result",
          "data": {
            "text/plain": [
              "Geo_Code\n",
              "322         70\n",
              "137         40\n",
              "51          39\n",
              "321         30\n",
              "584         30\n",
              "            ..\n",
              "301          1\n",
              "300          1\n",
              "299          1\n",
              "298          1\n",
              "713          1\n",
              "Length: 714, dtype: int64"
            ]
          },
          "metadata": {},
          "execution_count": 177
        }
      ]
    },
    {
      "cell_type": "code",
      "source": [
        "x_train=train.drop(columns=['Claim','Customer Id'],axis=1)\n",
        "y_train=train['Claim']\n",
        "y_train.value_counts()"
      ],
      "metadata": {
        "id": "GQ1xAKggCAlv",
        "colab": {
          "base_uri": "https://localhost:8080/"
        },
        "outputId": "085bd7c3-d677-4526-f710-495b6bf7f55f"
      },
      "execution_count": null,
      "outputs": [
        {
          "output_type": "execute_result",
          "data": {
            "text/plain": [
              "0    3886\n",
              "1    1126\n",
              "Name: Claim, dtype: int64"
            ]
          },
          "metadata": {},
          "execution_count": 178
        }
      ]
    },
    {
      "cell_type": "code",
      "source": [
        "x_test=test.drop(columns=['Claim','Customer Id'],axis=1)\n",
        "y_test=test['Claim']\n",
        "y_test.value_counts()"
      ],
      "metadata": {
        "id": "WreM0UJyDUGY",
        "colab": {
          "base_uri": "https://localhost:8080/"
        },
        "outputId": "1373bc65-8db2-47ed-a39a-7f78f1f69b8d"
      },
      "execution_count": null,
      "outputs": [
        {
          "output_type": "execute_result",
          "data": {
            "text/plain": [
              "0    1639\n",
              "1     508\n",
              "Name: Claim, dtype: int64"
            ]
          },
          "metadata": {},
          "execution_count": 179
        }
      ]
    },
    {
      "cell_type": "code",
      "source": [],
      "metadata": {
        "id": "480abzvgNk-K"
      },
      "execution_count": null,
      "outputs": []
    },
    {
      "cell_type": "code",
      "source": [
        "oversample = RandomOverSampler()\n",
        "\n",
        "# fit and apply the transform\n",
        "x_train, y_train = oversample.fit_resample(x_train, y_train)\n"
      ],
      "metadata": {
        "id": "uTU6Z745DNmU"
      },
      "execution_count": null,
      "outputs": []
    },
    {
      "cell_type": "code",
      "source": [
        "x_train.corrwith(y_train)"
      ],
      "metadata": {
        "id": "2Rzyu_e9FZQi",
        "colab": {
          "base_uri": "https://localhost:8080/"
        },
        "outputId": "5c1958ec-636d-4b12-9c3c-5e51ec9026b2"
      },
      "execution_count": null,
      "outputs": [
        {
          "output_type": "stream",
          "name": "stderr",
          "text": [
            "<ipython-input-181-d5fae79373b5>:1: FutureWarning: The default value of numeric_only in DataFrame.corrwith is deprecated. In a future version, it will default to False. Select only valid columns or specify the value of numeric_only to silence this warning.\n",
            "  x_train.corrwith(y_train)\n"
          ]
        },
        {
          "output_type": "execute_result",
          "data": {
            "text/plain": [
              "YearOfObservation    -0.023225\n",
              "Insured_Period        0.076670\n",
              "Residential           0.068711\n",
              "Building_Painted      0.049659\n",
              "Building_Fenced      -0.093627\n",
              "Garden               -0.094406\n",
              "Settlement           -0.094149\n",
              "Building Dimension    0.205824\n",
              "Building_Type         0.134948\n",
              "Geo_Code              0.045594\n",
              "dtype: float64"
            ]
          },
          "metadata": {},
          "execution_count": 181
        }
      ]
    },
    {
      "cell_type": "code",
      "source": [
        "train.corr()"
      ],
      "metadata": {
        "id": "9Ud-0rx0K3Qq",
        "colab": {
          "base_uri": "https://localhost:8080/",
          "height": 449
        },
        "outputId": "82e0bc24-c6a1-4502-c92d-464f520f2c0d"
      },
      "execution_count": null,
      "outputs": [
        {
          "output_type": "stream",
          "name": "stderr",
          "text": [
            "<ipython-input-182-0bc27f030cd9>:1: FutureWarning: The default value of numeric_only in DataFrame.corr is deprecated. In a future version, it will default to False. Select only valid columns or specify the value of numeric_only to silence this warning.\n",
            "  train.corr()\n"
          ]
        },
        {
          "output_type": "execute_result",
          "data": {
            "text/plain": [
              "                    YearOfObservation  Insured_Period  Residential  \\\n",
              "YearOfObservation            1.000000       -0.301636    -0.025558   \n",
              "Insured_Period              -0.301636        1.000000    -0.039430   \n",
              "Residential                 -0.025558       -0.039430     1.000000   \n",
              "Building_Painted             0.048231       -0.036210    -0.017048   \n",
              "Building_Fenced             -0.123026        0.015859    -0.090274   \n",
              "Garden                      -0.122836        0.015622    -0.090012   \n",
              "Settlement                  -0.122646        0.016294    -0.090621   \n",
              "Building Dimension           0.030324        0.000839     0.040093   \n",
              "Building_Type               -0.002341        0.003199     0.331869   \n",
              "Geo_Code                     0.014111       -0.010140     0.306301   \n",
              "Claim                       -0.020188        0.070145     0.055220   \n",
              "\n",
              "                    Building_Painted  Building_Fenced    Garden  Settlement  \\\n",
              "YearOfObservation           0.048231        -0.123026 -0.122836   -0.122646   \n",
              "Insured_Period             -0.036210         0.015859  0.015622    0.016294   \n",
              "Residential                -0.017048        -0.090274 -0.090012   -0.090621   \n",
              "Building_Painted            1.000000        -0.578215 -0.578447   -0.578680   \n",
              "Building_Fenced            -0.578215         1.000000  0.999601    0.999202   \n",
              "Garden                     -0.578447         0.999601  1.000000    0.999601   \n",
              "Settlement                 -0.578680         0.999202  0.999601    1.000000   \n",
              "Building Dimension          0.083910        -0.099025 -0.099087   -0.099292   \n",
              "Building_Type              -0.046469        -0.022468 -0.022389   -0.022310   \n",
              "Geo_Code                    0.021063        -0.057845 -0.057889   -0.058324   \n",
              "Claim                       0.036031        -0.069308 -0.070050   -0.069836   \n",
              "\n",
              "                    Building Dimension  Building_Type  Geo_Code     Claim  \n",
              "YearOfObservation             0.030324      -0.002341  0.014111 -0.020188  \n",
              "Insured_Period                0.000839       0.003199 -0.010140  0.070145  \n",
              "Residential                   0.040093       0.331869  0.306301  0.055220  \n",
              "Building_Painted              0.083910      -0.046469  0.021063  0.036031  \n",
              "Building_Fenced              -0.099025      -0.022468 -0.057845 -0.069308  \n",
              "Garden                       -0.099087      -0.022389 -0.057889 -0.070050  \n",
              "Settlement                   -0.099292      -0.022310 -0.058324 -0.069836  \n",
              "Building Dimension            1.000000      -0.028599 -0.001487  0.188908  \n",
              "Building_Type                -0.028599       1.000000  0.291660  0.114039  \n",
              "Geo_Code                     -0.001487       0.291660  1.000000  0.035347  \n",
              "Claim                         0.188908       0.114039  0.035347  1.000000  "
            ],
            "text/html": [
              "\n",
              "  <div id=\"df-1e88871f-ec84-40a8-8f82-a05fccece865\">\n",
              "    <div class=\"colab-df-container\">\n",
              "      <div>\n",
              "<style scoped>\n",
              "    .dataframe tbody tr th:only-of-type {\n",
              "        vertical-align: middle;\n",
              "    }\n",
              "\n",
              "    .dataframe tbody tr th {\n",
              "        vertical-align: top;\n",
              "    }\n",
              "\n",
              "    .dataframe thead th {\n",
              "        text-align: right;\n",
              "    }\n",
              "</style>\n",
              "<table border=\"1\" class=\"dataframe\">\n",
              "  <thead>\n",
              "    <tr style=\"text-align: right;\">\n",
              "      <th></th>\n",
              "      <th>YearOfObservation</th>\n",
              "      <th>Insured_Period</th>\n",
              "      <th>Residential</th>\n",
              "      <th>Building_Painted</th>\n",
              "      <th>Building_Fenced</th>\n",
              "      <th>Garden</th>\n",
              "      <th>Settlement</th>\n",
              "      <th>Building Dimension</th>\n",
              "      <th>Building_Type</th>\n",
              "      <th>Geo_Code</th>\n",
              "      <th>Claim</th>\n",
              "    </tr>\n",
              "  </thead>\n",
              "  <tbody>\n",
              "    <tr>\n",
              "      <th>YearOfObservation</th>\n",
              "      <td>1.000000</td>\n",
              "      <td>-0.301636</td>\n",
              "      <td>-0.025558</td>\n",
              "      <td>0.048231</td>\n",
              "      <td>-0.123026</td>\n",
              "      <td>-0.122836</td>\n",
              "      <td>-0.122646</td>\n",
              "      <td>0.030324</td>\n",
              "      <td>-0.002341</td>\n",
              "      <td>0.014111</td>\n",
              "      <td>-0.020188</td>\n",
              "    </tr>\n",
              "    <tr>\n",
              "      <th>Insured_Period</th>\n",
              "      <td>-0.301636</td>\n",
              "      <td>1.000000</td>\n",
              "      <td>-0.039430</td>\n",
              "      <td>-0.036210</td>\n",
              "      <td>0.015859</td>\n",
              "      <td>0.015622</td>\n",
              "      <td>0.016294</td>\n",
              "      <td>0.000839</td>\n",
              "      <td>0.003199</td>\n",
              "      <td>-0.010140</td>\n",
              "      <td>0.070145</td>\n",
              "    </tr>\n",
              "    <tr>\n",
              "      <th>Residential</th>\n",
              "      <td>-0.025558</td>\n",
              "      <td>-0.039430</td>\n",
              "      <td>1.000000</td>\n",
              "      <td>-0.017048</td>\n",
              "      <td>-0.090274</td>\n",
              "      <td>-0.090012</td>\n",
              "      <td>-0.090621</td>\n",
              "      <td>0.040093</td>\n",
              "      <td>0.331869</td>\n",
              "      <td>0.306301</td>\n",
              "      <td>0.055220</td>\n",
              "    </tr>\n",
              "    <tr>\n",
              "      <th>Building_Painted</th>\n",
              "      <td>0.048231</td>\n",
              "      <td>-0.036210</td>\n",
              "      <td>-0.017048</td>\n",
              "      <td>1.000000</td>\n",
              "      <td>-0.578215</td>\n",
              "      <td>-0.578447</td>\n",
              "      <td>-0.578680</td>\n",
              "      <td>0.083910</td>\n",
              "      <td>-0.046469</td>\n",
              "      <td>0.021063</td>\n",
              "      <td>0.036031</td>\n",
              "    </tr>\n",
              "    <tr>\n",
              "      <th>Building_Fenced</th>\n",
              "      <td>-0.123026</td>\n",
              "      <td>0.015859</td>\n",
              "      <td>-0.090274</td>\n",
              "      <td>-0.578215</td>\n",
              "      <td>1.000000</td>\n",
              "      <td>0.999601</td>\n",
              "      <td>0.999202</td>\n",
              "      <td>-0.099025</td>\n",
              "      <td>-0.022468</td>\n",
              "      <td>-0.057845</td>\n",
              "      <td>-0.069308</td>\n",
              "    </tr>\n",
              "    <tr>\n",
              "      <th>Garden</th>\n",
              "      <td>-0.122836</td>\n",
              "      <td>0.015622</td>\n",
              "      <td>-0.090012</td>\n",
              "      <td>-0.578447</td>\n",
              "      <td>0.999601</td>\n",
              "      <td>1.000000</td>\n",
              "      <td>0.999601</td>\n",
              "      <td>-0.099087</td>\n",
              "      <td>-0.022389</td>\n",
              "      <td>-0.057889</td>\n",
              "      <td>-0.070050</td>\n",
              "    </tr>\n",
              "    <tr>\n",
              "      <th>Settlement</th>\n",
              "      <td>-0.122646</td>\n",
              "      <td>0.016294</td>\n",
              "      <td>-0.090621</td>\n",
              "      <td>-0.578680</td>\n",
              "      <td>0.999202</td>\n",
              "      <td>0.999601</td>\n",
              "      <td>1.000000</td>\n",
              "      <td>-0.099292</td>\n",
              "      <td>-0.022310</td>\n",
              "      <td>-0.058324</td>\n",
              "      <td>-0.069836</td>\n",
              "    </tr>\n",
              "    <tr>\n",
              "      <th>Building Dimension</th>\n",
              "      <td>0.030324</td>\n",
              "      <td>0.000839</td>\n",
              "      <td>0.040093</td>\n",
              "      <td>0.083910</td>\n",
              "      <td>-0.099025</td>\n",
              "      <td>-0.099087</td>\n",
              "      <td>-0.099292</td>\n",
              "      <td>1.000000</td>\n",
              "      <td>-0.028599</td>\n",
              "      <td>-0.001487</td>\n",
              "      <td>0.188908</td>\n",
              "    </tr>\n",
              "    <tr>\n",
              "      <th>Building_Type</th>\n",
              "      <td>-0.002341</td>\n",
              "      <td>0.003199</td>\n",
              "      <td>0.331869</td>\n",
              "      <td>-0.046469</td>\n",
              "      <td>-0.022468</td>\n",
              "      <td>-0.022389</td>\n",
              "      <td>-0.022310</td>\n",
              "      <td>-0.028599</td>\n",
              "      <td>1.000000</td>\n",
              "      <td>0.291660</td>\n",
              "      <td>0.114039</td>\n",
              "    </tr>\n",
              "    <tr>\n",
              "      <th>Geo_Code</th>\n",
              "      <td>0.014111</td>\n",
              "      <td>-0.010140</td>\n",
              "      <td>0.306301</td>\n",
              "      <td>0.021063</td>\n",
              "      <td>-0.057845</td>\n",
              "      <td>-0.057889</td>\n",
              "      <td>-0.058324</td>\n",
              "      <td>-0.001487</td>\n",
              "      <td>0.291660</td>\n",
              "      <td>1.000000</td>\n",
              "      <td>0.035347</td>\n",
              "    </tr>\n",
              "    <tr>\n",
              "      <th>Claim</th>\n",
              "      <td>-0.020188</td>\n",
              "      <td>0.070145</td>\n",
              "      <td>0.055220</td>\n",
              "      <td>0.036031</td>\n",
              "      <td>-0.069308</td>\n",
              "      <td>-0.070050</td>\n",
              "      <td>-0.069836</td>\n",
              "      <td>0.188908</td>\n",
              "      <td>0.114039</td>\n",
              "      <td>0.035347</td>\n",
              "      <td>1.000000</td>\n",
              "    </tr>\n",
              "  </tbody>\n",
              "</table>\n",
              "</div>\n",
              "      <button class=\"colab-df-convert\" onclick=\"convertToInteractive('df-1e88871f-ec84-40a8-8f82-a05fccece865')\"\n",
              "              title=\"Convert this dataframe to an interactive table.\"\n",
              "              style=\"display:none;\">\n",
              "        \n",
              "  <svg xmlns=\"http://www.w3.org/2000/svg\" height=\"24px\"viewBox=\"0 0 24 24\"\n",
              "       width=\"24px\">\n",
              "    <path d=\"M0 0h24v24H0V0z\" fill=\"none\"/>\n",
              "    <path d=\"M18.56 5.44l.94 2.06.94-2.06 2.06-.94-2.06-.94-.94-2.06-.94 2.06-2.06.94zm-11 1L8.5 8.5l.94-2.06 2.06-.94-2.06-.94L8.5 2.5l-.94 2.06-2.06.94zm10 10l.94 2.06.94-2.06 2.06-.94-2.06-.94-.94-2.06-.94 2.06-2.06.94z\"/><path d=\"M17.41 7.96l-1.37-1.37c-.4-.4-.92-.59-1.43-.59-.52 0-1.04.2-1.43.59L10.3 9.45l-7.72 7.72c-.78.78-.78 2.05 0 2.83L4 21.41c.39.39.9.59 1.41.59.51 0 1.02-.2 1.41-.59l7.78-7.78 2.81-2.81c.8-.78.8-2.07 0-2.86zM5.41 20L4 18.59l7.72-7.72 1.47 1.35L5.41 20z\"/>\n",
              "  </svg>\n",
              "      </button>\n",
              "      \n",
              "  <style>\n",
              "    .colab-df-container {\n",
              "      display:flex;\n",
              "      flex-wrap:wrap;\n",
              "      gap: 12px;\n",
              "    }\n",
              "\n",
              "    .colab-df-convert {\n",
              "      background-color: #E8F0FE;\n",
              "      border: none;\n",
              "      border-radius: 50%;\n",
              "      cursor: pointer;\n",
              "      display: none;\n",
              "      fill: #1967D2;\n",
              "      height: 32px;\n",
              "      padding: 0 0 0 0;\n",
              "      width: 32px;\n",
              "    }\n",
              "\n",
              "    .colab-df-convert:hover {\n",
              "      background-color: #E2EBFA;\n",
              "      box-shadow: 0px 1px 2px rgba(60, 64, 67, 0.3), 0px 1px 3px 1px rgba(60, 64, 67, 0.15);\n",
              "      fill: #174EA6;\n",
              "    }\n",
              "\n",
              "    [theme=dark] .colab-df-convert {\n",
              "      background-color: #3B4455;\n",
              "      fill: #D2E3FC;\n",
              "    }\n",
              "\n",
              "    [theme=dark] .colab-df-convert:hover {\n",
              "      background-color: #434B5C;\n",
              "      box-shadow: 0px 1px 3px 1px rgba(0, 0, 0, 0.15);\n",
              "      filter: drop-shadow(0px 1px 2px rgba(0, 0, 0, 0.3));\n",
              "      fill: #FFFFFF;\n",
              "    }\n",
              "  </style>\n",
              "\n",
              "      <script>\n",
              "        const buttonEl =\n",
              "          document.querySelector('#df-1e88871f-ec84-40a8-8f82-a05fccece865 button.colab-df-convert');\n",
              "        buttonEl.style.display =\n",
              "          google.colab.kernel.accessAllowed ? 'block' : 'none';\n",
              "\n",
              "        async function convertToInteractive(key) {\n",
              "          const element = document.querySelector('#df-1e88871f-ec84-40a8-8f82-a05fccece865');\n",
              "          const dataTable =\n",
              "            await google.colab.kernel.invokeFunction('convertToInteractive',\n",
              "                                                     [key], {});\n",
              "          if (!dataTable) return;\n",
              "\n",
              "          const docLinkHtml = 'Like what you see? Visit the ' +\n",
              "            '<a target=\"_blank\" href=https://colab.research.google.com/notebooks/data_table.ipynb>data table notebook</a>'\n",
              "            + ' to learn more about interactive tables.';\n",
              "          element.innerHTML = '';\n",
              "          dataTable['output_type'] = 'display_data';\n",
              "          await google.colab.output.renderOutput(dataTable, element);\n",
              "          const docLink = document.createElement('div');\n",
              "          docLink.innerHTML = docLinkHtml;\n",
              "          element.appendChild(docLink);\n",
              "        }\n",
              "      </script>\n",
              "    </div>\n",
              "  </div>\n",
              "  "
            ]
          },
          "metadata": {},
          "execution_count": 182
        }
      ]
    },
    {
      "cell_type": "code",
      "execution_count": null,
      "metadata": {
        "id": "snFuTGn17kWA",
        "colab": {
          "base_uri": "https://localhost:8080/"
        },
        "outputId": "c94dd54c-9d33-4474-8335-b98c8ca1288d"
      },
      "outputs": [
        {
          "output_type": "stream",
          "name": "stderr",
          "text": [
            "<ipython-input-183-a588669cd308>:1: FutureWarning: The default value of numeric_only in DataFrame.corrwith is deprecated. In a future version, it will default to False. Select only valid columns or specify the value of numeric_only to silence this warning.\n",
            "  x_test.corrwith(y_test)\n"
          ]
        },
        {
          "output_type": "execute_result",
          "data": {
            "text/plain": [
              "YearOfObservation    -0.008012\n",
              "Insured_Period        0.053832\n",
              "Residential           0.081526\n",
              "Building_Painted      0.015090\n",
              "Building_Fenced      -0.011219\n",
              "Garden               -0.010583\n",
              "Settlement           -0.011219\n",
              "Building Dimension    0.217647\n",
              "Building_Type         0.108189\n",
              "Geo_Code              0.063175\n",
              "dtype: float64"
            ]
          },
          "metadata": {},
          "execution_count": 183
        }
      ],
      "source": [
        "x_test.corrwith(y_test)"
      ]
    },
    {
      "cell_type": "code",
      "execution_count": null,
      "metadata": {
        "id": "cG-568yN7kWA",
        "colab": {
          "base_uri": "https://localhost:8080/",
          "height": 449
        },
        "outputId": "e65ce0ea-218a-4aaa-ea83-7cc7e2d80ba7"
      },
      "outputs": [
        {
          "output_type": "stream",
          "name": "stderr",
          "text": [
            "<ipython-input-184-c06d3b70ad5e>:1: FutureWarning: The default value of numeric_only in DataFrame.corr is deprecated. In a future version, it will default to False. Select only valid columns or specify the value of numeric_only to silence this warning.\n",
            "  test.corr()\n"
          ]
        },
        {
          "output_type": "execute_result",
          "data": {
            "text/plain": [
              "                    YearOfObservation  Insured_Period  Residential  \\\n",
              "YearOfObservation            1.000000       -0.271027    -0.074958   \n",
              "Insured_Period              -0.271027        1.000000    -0.006854   \n",
              "Residential                 -0.074958       -0.006854     1.000000   \n",
              "Building_Painted             0.077257        0.002274    -0.070417   \n",
              "Building_Fenced             -0.114547       -0.015947    -0.064445   \n",
              "Garden                      -0.115942       -0.016511    -0.064340   \n",
              "Settlement                  -0.114547       -0.015947    -0.064445   \n",
              "Building Dimension          -0.014887        0.031093     0.029305   \n",
              "Building_Type                0.023836       -0.012057     0.339664   \n",
              "Geo_Code                    -0.007223        0.014054     0.344747   \n",
              "Claim                       -0.008012        0.053832     0.081526   \n",
              "\n",
              "                    Building_Painted  Building_Fenced    Garden  Settlement  \\\n",
              "YearOfObservation           0.077257        -0.114547 -0.115942   -0.114547   \n",
              "Insured_Period              0.002274        -0.015947 -0.016511   -0.015947   \n",
              "Residential                -0.070417        -0.064445 -0.064340   -0.064445   \n",
              "Building_Painted            1.000000        -0.566483 -0.564890   -0.566483   \n",
              "Building_Fenced            -0.566483         1.000000  0.997209    1.000000   \n",
              "Garden                     -0.564890         0.997209  1.000000    0.997209   \n",
              "Settlement                 -0.566483         1.000000  0.997209    1.000000   \n",
              "Building Dimension          0.055986        -0.118637 -0.117514   -0.118637   \n",
              "Building_Type              -0.052765        -0.016033 -0.017580   -0.016033   \n",
              "Geo_Code                   -0.001138        -0.047569 -0.047778   -0.047569   \n",
              "Claim                       0.015090        -0.011219 -0.010583   -0.011219   \n",
              "\n",
              "                    Building Dimension  Building_Type  Geo_Code     Claim  \n",
              "YearOfObservation            -0.014887       0.023836 -0.007223 -0.008012  \n",
              "Insured_Period                0.031093      -0.012057  0.014054  0.053832  \n",
              "Residential                   0.029305       0.339664  0.344747  0.081526  \n",
              "Building_Painted              0.055986      -0.052765 -0.001138  0.015090  \n",
              "Building_Fenced              -0.118637      -0.016033 -0.047569 -0.011219  \n",
              "Garden                       -0.117514      -0.017580 -0.047778 -0.010583  \n",
              "Settlement                   -0.118637      -0.016033 -0.047569 -0.011219  \n",
              "Building Dimension            1.000000      -0.007188  0.017698  0.217647  \n",
              "Building_Type                -0.007188       1.000000  0.274357  0.108189  \n",
              "Geo_Code                      0.017698       0.274357  1.000000  0.063175  \n",
              "Claim                         0.217647       0.108189  0.063175  1.000000  "
            ],
            "text/html": [
              "\n",
              "  <div id=\"df-83daa0ff-264e-4dc8-a22d-692ffaea2913\">\n",
              "    <div class=\"colab-df-container\">\n",
              "      <div>\n",
              "<style scoped>\n",
              "    .dataframe tbody tr th:only-of-type {\n",
              "        vertical-align: middle;\n",
              "    }\n",
              "\n",
              "    .dataframe tbody tr th {\n",
              "        vertical-align: top;\n",
              "    }\n",
              "\n",
              "    .dataframe thead th {\n",
              "        text-align: right;\n",
              "    }\n",
              "</style>\n",
              "<table border=\"1\" class=\"dataframe\">\n",
              "  <thead>\n",
              "    <tr style=\"text-align: right;\">\n",
              "      <th></th>\n",
              "      <th>YearOfObservation</th>\n",
              "      <th>Insured_Period</th>\n",
              "      <th>Residential</th>\n",
              "      <th>Building_Painted</th>\n",
              "      <th>Building_Fenced</th>\n",
              "      <th>Garden</th>\n",
              "      <th>Settlement</th>\n",
              "      <th>Building Dimension</th>\n",
              "      <th>Building_Type</th>\n",
              "      <th>Geo_Code</th>\n",
              "      <th>Claim</th>\n",
              "    </tr>\n",
              "  </thead>\n",
              "  <tbody>\n",
              "    <tr>\n",
              "      <th>YearOfObservation</th>\n",
              "      <td>1.000000</td>\n",
              "      <td>-0.271027</td>\n",
              "      <td>-0.074958</td>\n",
              "      <td>0.077257</td>\n",
              "      <td>-0.114547</td>\n",
              "      <td>-0.115942</td>\n",
              "      <td>-0.114547</td>\n",
              "      <td>-0.014887</td>\n",
              "      <td>0.023836</td>\n",
              "      <td>-0.007223</td>\n",
              "      <td>-0.008012</td>\n",
              "    </tr>\n",
              "    <tr>\n",
              "      <th>Insured_Period</th>\n",
              "      <td>-0.271027</td>\n",
              "      <td>1.000000</td>\n",
              "      <td>-0.006854</td>\n",
              "      <td>0.002274</td>\n",
              "      <td>-0.015947</td>\n",
              "      <td>-0.016511</td>\n",
              "      <td>-0.015947</td>\n",
              "      <td>0.031093</td>\n",
              "      <td>-0.012057</td>\n",
              "      <td>0.014054</td>\n",
              "      <td>0.053832</td>\n",
              "    </tr>\n",
              "    <tr>\n",
              "      <th>Residential</th>\n",
              "      <td>-0.074958</td>\n",
              "      <td>-0.006854</td>\n",
              "      <td>1.000000</td>\n",
              "      <td>-0.070417</td>\n",
              "      <td>-0.064445</td>\n",
              "      <td>-0.064340</td>\n",
              "      <td>-0.064445</td>\n",
              "      <td>0.029305</td>\n",
              "      <td>0.339664</td>\n",
              "      <td>0.344747</td>\n",
              "      <td>0.081526</td>\n",
              "    </tr>\n",
              "    <tr>\n",
              "      <th>Building_Painted</th>\n",
              "      <td>0.077257</td>\n",
              "      <td>0.002274</td>\n",
              "      <td>-0.070417</td>\n",
              "      <td>1.000000</td>\n",
              "      <td>-0.566483</td>\n",
              "      <td>-0.564890</td>\n",
              "      <td>-0.566483</td>\n",
              "      <td>0.055986</td>\n",
              "      <td>-0.052765</td>\n",
              "      <td>-0.001138</td>\n",
              "      <td>0.015090</td>\n",
              "    </tr>\n",
              "    <tr>\n",
              "      <th>Building_Fenced</th>\n",
              "      <td>-0.114547</td>\n",
              "      <td>-0.015947</td>\n",
              "      <td>-0.064445</td>\n",
              "      <td>-0.566483</td>\n",
              "      <td>1.000000</td>\n",
              "      <td>0.997209</td>\n",
              "      <td>1.000000</td>\n",
              "      <td>-0.118637</td>\n",
              "      <td>-0.016033</td>\n",
              "      <td>-0.047569</td>\n",
              "      <td>-0.011219</td>\n",
              "    </tr>\n",
              "    <tr>\n",
              "      <th>Garden</th>\n",
              "      <td>-0.115942</td>\n",
              "      <td>-0.016511</td>\n",
              "      <td>-0.064340</td>\n",
              "      <td>-0.564890</td>\n",
              "      <td>0.997209</td>\n",
              "      <td>1.000000</td>\n",
              "      <td>0.997209</td>\n",
              "      <td>-0.117514</td>\n",
              "      <td>-0.017580</td>\n",
              "      <td>-0.047778</td>\n",
              "      <td>-0.010583</td>\n",
              "    </tr>\n",
              "    <tr>\n",
              "      <th>Settlement</th>\n",
              "      <td>-0.114547</td>\n",
              "      <td>-0.015947</td>\n",
              "      <td>-0.064445</td>\n",
              "      <td>-0.566483</td>\n",
              "      <td>1.000000</td>\n",
              "      <td>0.997209</td>\n",
              "      <td>1.000000</td>\n",
              "      <td>-0.118637</td>\n",
              "      <td>-0.016033</td>\n",
              "      <td>-0.047569</td>\n",
              "      <td>-0.011219</td>\n",
              "    </tr>\n",
              "    <tr>\n",
              "      <th>Building Dimension</th>\n",
              "      <td>-0.014887</td>\n",
              "      <td>0.031093</td>\n",
              "      <td>0.029305</td>\n",
              "      <td>0.055986</td>\n",
              "      <td>-0.118637</td>\n",
              "      <td>-0.117514</td>\n",
              "      <td>-0.118637</td>\n",
              "      <td>1.000000</td>\n",
              "      <td>-0.007188</td>\n",
              "      <td>0.017698</td>\n",
              "      <td>0.217647</td>\n",
              "    </tr>\n",
              "    <tr>\n",
              "      <th>Building_Type</th>\n",
              "      <td>0.023836</td>\n",
              "      <td>-0.012057</td>\n",
              "      <td>0.339664</td>\n",
              "      <td>-0.052765</td>\n",
              "      <td>-0.016033</td>\n",
              "      <td>-0.017580</td>\n",
              "      <td>-0.016033</td>\n",
              "      <td>-0.007188</td>\n",
              "      <td>1.000000</td>\n",
              "      <td>0.274357</td>\n",
              "      <td>0.108189</td>\n",
              "    </tr>\n",
              "    <tr>\n",
              "      <th>Geo_Code</th>\n",
              "      <td>-0.007223</td>\n",
              "      <td>0.014054</td>\n",
              "      <td>0.344747</td>\n",
              "      <td>-0.001138</td>\n",
              "      <td>-0.047569</td>\n",
              "      <td>-0.047778</td>\n",
              "      <td>-0.047569</td>\n",
              "      <td>0.017698</td>\n",
              "      <td>0.274357</td>\n",
              "      <td>1.000000</td>\n",
              "      <td>0.063175</td>\n",
              "    </tr>\n",
              "    <tr>\n",
              "      <th>Claim</th>\n",
              "      <td>-0.008012</td>\n",
              "      <td>0.053832</td>\n",
              "      <td>0.081526</td>\n",
              "      <td>0.015090</td>\n",
              "      <td>-0.011219</td>\n",
              "      <td>-0.010583</td>\n",
              "      <td>-0.011219</td>\n",
              "      <td>0.217647</td>\n",
              "      <td>0.108189</td>\n",
              "      <td>0.063175</td>\n",
              "      <td>1.000000</td>\n",
              "    </tr>\n",
              "  </tbody>\n",
              "</table>\n",
              "</div>\n",
              "      <button class=\"colab-df-convert\" onclick=\"convertToInteractive('df-83daa0ff-264e-4dc8-a22d-692ffaea2913')\"\n",
              "              title=\"Convert this dataframe to an interactive table.\"\n",
              "              style=\"display:none;\">\n",
              "        \n",
              "  <svg xmlns=\"http://www.w3.org/2000/svg\" height=\"24px\"viewBox=\"0 0 24 24\"\n",
              "       width=\"24px\">\n",
              "    <path d=\"M0 0h24v24H0V0z\" fill=\"none\"/>\n",
              "    <path d=\"M18.56 5.44l.94 2.06.94-2.06 2.06-.94-2.06-.94-.94-2.06-.94 2.06-2.06.94zm-11 1L8.5 8.5l.94-2.06 2.06-.94-2.06-.94L8.5 2.5l-.94 2.06-2.06.94zm10 10l.94 2.06.94-2.06 2.06-.94-2.06-.94-.94-2.06-.94 2.06-2.06.94z\"/><path d=\"M17.41 7.96l-1.37-1.37c-.4-.4-.92-.59-1.43-.59-.52 0-1.04.2-1.43.59L10.3 9.45l-7.72 7.72c-.78.78-.78 2.05 0 2.83L4 21.41c.39.39.9.59 1.41.59.51 0 1.02-.2 1.41-.59l7.78-7.78 2.81-2.81c.8-.78.8-2.07 0-2.86zM5.41 20L4 18.59l7.72-7.72 1.47 1.35L5.41 20z\"/>\n",
              "  </svg>\n",
              "      </button>\n",
              "      \n",
              "  <style>\n",
              "    .colab-df-container {\n",
              "      display:flex;\n",
              "      flex-wrap:wrap;\n",
              "      gap: 12px;\n",
              "    }\n",
              "\n",
              "    .colab-df-convert {\n",
              "      background-color: #E8F0FE;\n",
              "      border: none;\n",
              "      border-radius: 50%;\n",
              "      cursor: pointer;\n",
              "      display: none;\n",
              "      fill: #1967D2;\n",
              "      height: 32px;\n",
              "      padding: 0 0 0 0;\n",
              "      width: 32px;\n",
              "    }\n",
              "\n",
              "    .colab-df-convert:hover {\n",
              "      background-color: #E2EBFA;\n",
              "      box-shadow: 0px 1px 2px rgba(60, 64, 67, 0.3), 0px 1px 3px 1px rgba(60, 64, 67, 0.15);\n",
              "      fill: #174EA6;\n",
              "    }\n",
              "\n",
              "    [theme=dark] .colab-df-convert {\n",
              "      background-color: #3B4455;\n",
              "      fill: #D2E3FC;\n",
              "    }\n",
              "\n",
              "    [theme=dark] .colab-df-convert:hover {\n",
              "      background-color: #434B5C;\n",
              "      box-shadow: 0px 1px 3px 1px rgba(0, 0, 0, 0.15);\n",
              "      filter: drop-shadow(0px 1px 2px rgba(0, 0, 0, 0.3));\n",
              "      fill: #FFFFFF;\n",
              "    }\n",
              "  </style>\n",
              "\n",
              "      <script>\n",
              "        const buttonEl =\n",
              "          document.querySelector('#df-83daa0ff-264e-4dc8-a22d-692ffaea2913 button.colab-df-convert');\n",
              "        buttonEl.style.display =\n",
              "          google.colab.kernel.accessAllowed ? 'block' : 'none';\n",
              "\n",
              "        async function convertToInteractive(key) {\n",
              "          const element = document.querySelector('#df-83daa0ff-264e-4dc8-a22d-692ffaea2913');\n",
              "          const dataTable =\n",
              "            await google.colab.kernel.invokeFunction('convertToInteractive',\n",
              "                                                     [key], {});\n",
              "          if (!dataTable) return;\n",
              "\n",
              "          const docLinkHtml = 'Like what you see? Visit the ' +\n",
              "            '<a target=\"_blank\" href=https://colab.research.google.com/notebooks/data_table.ipynb>data table notebook</a>'\n",
              "            + ' to learn more about interactive tables.';\n",
              "          element.innerHTML = '';\n",
              "          dataTable['output_type'] = 'display_data';\n",
              "          await google.colab.output.renderOutput(dataTable, element);\n",
              "          const docLink = document.createElement('div');\n",
              "          docLink.innerHTML = docLinkHtml;\n",
              "          element.appendChild(docLink);\n",
              "        }\n",
              "      </script>\n",
              "    </div>\n",
              "  </div>\n",
              "  "
            ]
          },
          "metadata": {},
          "execution_count": 184
        }
      ],
      "source": [
        "test.corr()"
      ]
    },
    {
      "cell_type": "code",
      "execution_count": null,
      "metadata": {
        "id": "LeX2Xhl77kWB"
      },
      "outputs": [],
      "source": []
    },
    {
      "cell_type": "code",
      "execution_count": null,
      "metadata": {
        "id": "hMR-oQqb7kWB"
      },
      "outputs": [],
      "source": []
    },
    {
      "cell_type": "code",
      "execution_count": null,
      "metadata": {
        "id": "40TXqQMd7kWB"
      },
      "outputs": [],
      "source": [
        "#train=train.drop(columns=['Customer Id','YearOfObservation','Insured_Period'],axis=1)\n",
        "#train"
      ]
    },
    {
      "cell_type": "code",
      "execution_count": null,
      "metadata": {
        "id": "j2U8Rjx-7kWB"
      },
      "outputs": [],
      "source": [
        "#test=test.drop(columns=['Customer Id','YearOfObservation','Insured_Period'],axis=1)\n",
        "#test"
      ]
    },
    {
      "cell_type": "markdown",
      "metadata": {
        "id": "jaapLLQE4VS8"
      },
      "source": [
        "---"
      ]
    },
    {
      "cell_type": "markdown",
      "metadata": {
        "id": "4pKhtTMi4ZDC"
      },
      "source": [
        "### **Apprentissage automatique : construction des modèles** "
      ]
    },
    {
      "cell_type": "markdown",
      "source": [
        "## Le modéle ***MLPClassifier*** \n",
        "\n",
        "\n"
      ],
      "metadata": {
        "id": "P35Ez5V1fC3q"
      }
    },
    {
      "cell_type": "code",
      "execution_count": null,
      "metadata": {
        "id": "-aLtoNbm4XqN"
      },
      "outputs": [],
      "source": [
        "from sklearn.neural_network import MLPClassifier\n",
        "from sklearn.metrics import confusion_matrix, accuracy_score, recall_score,precision_score, ConfusionMatrixDisplay"
      ]
    },
    {
      "cell_type": "code",
      "execution_count": null,
      "metadata": {
        "id": "jY66qTipp9j9",
        "colab": {
          "base_uri": "https://localhost:8080/",
          "height": 74
        },
        "outputId": "e55174a4-c317-4b1a-be51-67d57247a58c"
      },
      "outputs": [
        {
          "output_type": "execute_result",
          "data": {
            "text/plain": [
              "MLPClassifier(early_stopping=True, solver='sgd')"
            ],
            "text/html": [
              "<style>#sk-container-id-4 {color: black;background-color: white;}#sk-container-id-4 pre{padding: 0;}#sk-container-id-4 div.sk-toggleable {background-color: white;}#sk-container-id-4 label.sk-toggleable__label {cursor: pointer;display: block;width: 100%;margin-bottom: 0;padding: 0.3em;box-sizing: border-box;text-align: center;}#sk-container-id-4 label.sk-toggleable__label-arrow:before {content: \"▸\";float: left;margin-right: 0.25em;color: #696969;}#sk-container-id-4 label.sk-toggleable__label-arrow:hover:before {color: black;}#sk-container-id-4 div.sk-estimator:hover label.sk-toggleable__label-arrow:before {color: black;}#sk-container-id-4 div.sk-toggleable__content {max-height: 0;max-width: 0;overflow: hidden;text-align: left;background-color: #f0f8ff;}#sk-container-id-4 div.sk-toggleable__content pre {margin: 0.2em;color: black;border-radius: 0.25em;background-color: #f0f8ff;}#sk-container-id-4 input.sk-toggleable__control:checked~div.sk-toggleable__content {max-height: 200px;max-width: 100%;overflow: auto;}#sk-container-id-4 input.sk-toggleable__control:checked~label.sk-toggleable__label-arrow:before {content: \"▾\";}#sk-container-id-4 div.sk-estimator input.sk-toggleable__control:checked~label.sk-toggleable__label {background-color: #d4ebff;}#sk-container-id-4 div.sk-label input.sk-toggleable__control:checked~label.sk-toggleable__label {background-color: #d4ebff;}#sk-container-id-4 input.sk-hidden--visually {border: 0;clip: rect(1px 1px 1px 1px);clip: rect(1px, 1px, 1px, 1px);height: 1px;margin: -1px;overflow: hidden;padding: 0;position: absolute;width: 1px;}#sk-container-id-4 div.sk-estimator {font-family: monospace;background-color: #f0f8ff;border: 1px dotted black;border-radius: 0.25em;box-sizing: border-box;margin-bottom: 0.5em;}#sk-container-id-4 div.sk-estimator:hover {background-color: #d4ebff;}#sk-container-id-4 div.sk-parallel-item::after {content: \"\";width: 100%;border-bottom: 1px solid gray;flex-grow: 1;}#sk-container-id-4 div.sk-label:hover label.sk-toggleable__label {background-color: #d4ebff;}#sk-container-id-4 div.sk-serial::before {content: \"\";position: absolute;border-left: 1px solid gray;box-sizing: border-box;top: 0;bottom: 0;left: 50%;z-index: 0;}#sk-container-id-4 div.sk-serial {display: flex;flex-direction: column;align-items: center;background-color: white;padding-right: 0.2em;padding-left: 0.2em;position: relative;}#sk-container-id-4 div.sk-item {position: relative;z-index: 1;}#sk-container-id-4 div.sk-parallel {display: flex;align-items: stretch;justify-content: center;background-color: white;position: relative;}#sk-container-id-4 div.sk-item::before, #sk-container-id-4 div.sk-parallel-item::before {content: \"\";position: absolute;border-left: 1px solid gray;box-sizing: border-box;top: 0;bottom: 0;left: 50%;z-index: -1;}#sk-container-id-4 div.sk-parallel-item {display: flex;flex-direction: column;z-index: 1;position: relative;background-color: white;}#sk-container-id-4 div.sk-parallel-item:first-child::after {align-self: flex-end;width: 50%;}#sk-container-id-4 div.sk-parallel-item:last-child::after {align-self: flex-start;width: 50%;}#sk-container-id-4 div.sk-parallel-item:only-child::after {width: 0;}#sk-container-id-4 div.sk-dashed-wrapped {border: 1px dashed gray;margin: 0 0.4em 0.5em 0.4em;box-sizing: border-box;padding-bottom: 0.4em;background-color: white;}#sk-container-id-4 div.sk-label label {font-family: monospace;font-weight: bold;display: inline-block;line-height: 1.2em;}#sk-container-id-4 div.sk-label-container {text-align: center;}#sk-container-id-4 div.sk-container {/* jupyter's `normalize.less` sets `[hidden] { display: none; }` but bootstrap.min.css set `[hidden] { display: none !important; }` so we also need the `!important` here to be able to override the default hidden behavior on the sphinx rendered scikit-learn.org. See: https://github.com/scikit-learn/scikit-learn/issues/21755 */display: inline-block !important;position: relative;}#sk-container-id-4 div.sk-text-repr-fallback {display: none;}</style><div id=\"sk-container-id-4\" class=\"sk-top-container\"><div class=\"sk-text-repr-fallback\"><pre>MLPClassifier(early_stopping=True, solver=&#x27;sgd&#x27;)</pre><b>In a Jupyter environment, please rerun this cell to show the HTML representation or trust the notebook. <br />On GitHub, the HTML representation is unable to render, please try loading this page with nbviewer.org.</b></div><div class=\"sk-container\" hidden><div class=\"sk-item\"><div class=\"sk-estimator sk-toggleable\"><input class=\"sk-toggleable__control sk-hidden--visually\" id=\"sk-estimator-id-4\" type=\"checkbox\" checked><label for=\"sk-estimator-id-4\" class=\"sk-toggleable__label sk-toggleable__label-arrow\">MLPClassifier</label><div class=\"sk-toggleable__content\"><pre>MLPClassifier(early_stopping=True, solver=&#x27;sgd&#x27;)</pre></div></div></div></div></div>"
            ]
          },
          "metadata": {},
          "execution_count": 188
        }
      ],
      "source": [
        "NN = MLPClassifier(solver=\"sgd\",early_stopping=True) #verbose=True\n",
        "NN.fit(x_train,y_train)"
      ]
    },
    {
      "cell_type": "code",
      "source": [
        "y_pred = NN.predict(x_test)"
      ],
      "metadata": {
        "id": "CWiZFdJpLvYj"
      },
      "execution_count": null,
      "outputs": []
    },
    {
      "cell_type": "code",
      "source": [
        "# affichage du degré de précision de l'apprentissage\n",
        "# affichage du degré de précision du test\n",
        "train_score=NN.score(x_train, y_train)*100\n",
        "test_score=NN.score(x_test,y_test)*100\n",
        "print(\"Training set score: \", train_score  )\n",
        "print(\"Test set score: \" ,test_score)"
      ],
      "metadata": {
        "id": "Bi01nkH9PXYE",
        "colab": {
          "base_uri": "https://localhost:8080/"
        },
        "outputId": "c5a9bb66-9203-4afc-f121-84f4548fc0a1"
      },
      "execution_count": null,
      "outputs": [
        {
          "output_type": "stream",
          "name": "stdout",
          "text": [
            "Training set score:  63.098301595470915\n",
            "Test set score:  57.56870051234281\n"
          ]
        }
      ]
    },
    {
      "cell_type": "code",
      "source": [
        "from sklearn.metrics import classification_report\n",
        "print(classification_report(y_test, y_pred))"
      ],
      "metadata": {
        "colab": {
          "base_uri": "https://localhost:8080/"
        },
        "id": "ZefN-ViJjy-t",
        "outputId": "f3981fc7-407e-4341-dfa0-b67d7544861b"
      },
      "execution_count": null,
      "outputs": [
        {
          "output_type": "stream",
          "name": "stdout",
          "text": [
            "              precision    recall  f1-score   support\n",
            "\n",
            "           0       0.88      0.51      0.65      1639\n",
            "           1       0.33      0.78      0.46       508\n",
            "\n",
            "    accuracy                           0.58      2147\n",
            "   macro avg       0.61      0.64      0.56      2147\n",
            "weighted avg       0.75      0.58      0.61      2147\n",
            "\n"
          ]
        }
      ]
    },
    {
      "cell_type": "code",
      "source": [
        "accuracy = accuracy_score(y_test,y_pred)*100\n",
        "confusion_mat = confusion_matrix(y_test,y_pred)\n",
        "recall=recall_score(y_true=y_test,y_pred=y_pred, average='weighted')*100\n",
        "precision= precision_score(y_test,y_pred,average='weighted')*100"
      ],
      "metadata": {
        "id": "xO5IdnSMeDOC"
      },
      "execution_count": null,
      "outputs": []
    },
    {
      "cell_type": "code",
      "source": [
        "# affichage des résultats calculés dans l'étape 7:\n",
        "print(\"Accuracy for Neural Network is:\",accuracy)\n",
        "print(\"the recall for Neural Network is\", recall)\n",
        "print(\"the precision for this Neural Network is \", precision)\n",
        "print(\"Confusion Matrix\",confusion_mat)\n"
      ],
      "metadata": {
        "colab": {
          "base_uri": "https://localhost:8080/"
        },
        "id": "396RJrjQeDRt",
        "outputId": "7253e6e9-0fc4-4ba6-dfbe-93b7e2c65ada"
      },
      "execution_count": null,
      "outputs": [
        {
          "output_type": "stream",
          "name": "stdout",
          "text": [
            "Accuracy for Neural Network is: 57.56870051234281\n",
            "the recall for Neural Network is 57.56870051234281\n",
            "the precision for this Neural Network is  75.06325708716547\n",
            "Confusion Matrix [[842 797]\n",
            " [114 394]]\n"
          ]
        }
      ]
    },
    {
      "cell_type": "code",
      "source": [
        "# 2 ème méthode pour afficher une matrice de confusion:\n",
        "confusion_mat\n",
        "disp = ConfusionMatrixDisplay(confusion_matrix=confusion_mat)\n",
        "disp.plot()"
      ],
      "metadata": {
        "colab": {
          "base_uri": "https://localhost:8080/",
          "height": 475
        },
        "id": "fqhLPeWmeGqS",
        "outputId": "0a7443d4-74cd-4f91-f722-558ef5eb3eee"
      },
      "execution_count": null,
      "outputs": [
        {
          "output_type": "execute_result",
          "data": {
            "text/plain": [
              "<sklearn.metrics._plot.confusion_matrix.ConfusionMatrixDisplay at 0x7f4b7f3a0190>"
            ]
          },
          "metadata": {},
          "execution_count": 194
        },
        {
          "output_type": "display_data",
          "data": {
            "text/plain": [
              "<Figure size 640x480 with 2 Axes>"
            ],
            "image/png": "[encoded data removed]"
          },
          "metadata": {}
        }
      ]
    },
    {
      "cell_type": "markdown",
      "source": [
        "## ***Le modèle RandomForestClassifier***"
      ],
      "metadata": {
        "id": "g0qR212JfquV"
      }
    },
    {
      "cell_type": "code",
      "source": [
        "from sklearn.ensemble import RandomForestClassifier"
      ],
      "metadata": {
        "id": "Dr5mnhUyXhla"
      },
      "execution_count": null,
      "outputs": []
    },
    {
      "cell_type": "code",
      "source": [
        "# Initialize model\n",
        "rfc = RandomForestClassifier()\n",
        "\n",
        "# Train the model\n",
        "rfc.fit(x_train, y_train)\n",
        "\n",
        "# Predict on the test set\n",
        "y_pred = rfc.predict(x_test)\n"
      ],
      "metadata": {
        "id": "Ux14RtGzXh2X"
      },
      "execution_count": null,
      "outputs": []
    },
    {
      "cell_type": "code",
      "source": [
        "# affichage du degré de précision de l'apprentissage\n",
        "# affichage du degré de précision du test\n",
        "train_score=rfc.score(x_train, y_train)*100\n",
        "test_score=rfc.score(x_test,y_test)*100\n",
        "print(\"Training set score: \", train_score  )\n",
        "print(\"Test set score: \" ,test_score)"
      ],
      "metadata": {
        "id": "cXN5hjTuXuQc",
        "colab": {
          "base_uri": "https://localhost:8080/"
        },
        "outputId": "dd50d4e5-334d-4a8d-f01f-73489e3f2c08"
      },
      "execution_count": null,
      "outputs": [
        {
          "output_type": "stream",
          "name": "stdout",
          "text": [
            "Training set score:  99.61399897066391\n",
            "Test set score:  72.84583139264089\n"
          ]
        }
      ]
    },
    {
      "cell_type": "code",
      "source": [
        "from sklearn.metrics import classification_report\n",
        "print(classification_report(y_test, y_pred))"
      ],
      "metadata": {
        "colab": {
          "base_uri": "https://localhost:8080/"
        },
        "id": "j866--UrjvqJ",
        "outputId": "e77c9d86-2024-4247-ea52-17468668542a"
      },
      "execution_count": null,
      "outputs": [
        {
          "output_type": "stream",
          "name": "stdout",
          "text": [
            "              precision    recall  f1-score   support\n",
            "\n",
            "           0       0.79      0.87      0.83      1639\n",
            "           1       0.39      0.27      0.32       508\n",
            "\n",
            "    accuracy                           0.73      2147\n",
            "   macro avg       0.59      0.57      0.58      2147\n",
            "weighted avg       0.70      0.73      0.71      2147\n",
            "\n"
          ]
        }
      ]
    },
    {
      "cell_type": "code",
      "source": [
        "accuracy = accuracy_score(y_test,y_pred)*100\n",
        "confusion_mat = confusion_matrix(y_test,y_pred)\n",
        "recall=recall_score(y_true=y_test,y_pred=y_pred, average='weighted')*100\n",
        "precision= precision_score(y_test,y_pred,average='weighted')*100"
      ],
      "metadata": {
        "id": "OXe7fDipek6X"
      },
      "execution_count": null,
      "outputs": []
    },
    {
      "cell_type": "code",
      "source": [
        "# affichage des résultats calculés dans l'étape 7:\n",
        "print(\"Accuracy \",accuracy)\n",
        "print(\"the recall\", recall)\n",
        "print(\"the precision  \", precision)\n",
        "print(\"Confusion Matrix\",confusion_mat)"
      ],
      "metadata": {
        "colab": {
          "base_uri": "https://localhost:8080/"
        },
        "id": "6FDxKbgMek-I",
        "outputId": "048c7b00-d3e0-4f9e-8f02-9173579350e9"
      },
      "execution_count": null,
      "outputs": [
        {
          "output_type": "stream",
          "name": "stdout",
          "text": [
            "Accuracy  72.84583139264089\n",
            "the recall 72.84583139264089\n",
            "the precision   69.95413438459654\n",
            "Confusion Matrix [[1425  214]\n",
            " [ 369  139]]\n"
          ]
        }
      ]
    },
    {
      "cell_type": "code",
      "source": [
        "# 2 ème méthode pour afficher une matrice de confusion:\n",
        "confusion_mat\n",
        "disp = ConfusionMatrixDisplay(confusion_matrix=confusion_mat)\n",
        "disp.plot()"
      ],
      "metadata": {
        "colab": {
          "base_uri": "https://localhost:8080/",
          "height": 475
        },
        "id": "pa9YdZfOeqib",
        "outputId": "9fec83c5-1a1e-4e73-82fa-9d4d344d52c0"
      },
      "execution_count": null,
      "outputs": [
        {
          "output_type": "execute_result",
          "data": {
            "text/plain": [
              "<sklearn.metrics._plot.confusion_matrix.ConfusionMatrixDisplay at 0x7f4b807d1240>"
            ]
          },
          "metadata": {},
          "execution_count": 201
        },
        {
          "output_type": "display_data",
          "data": {
            "text/plain": [
              "<Figure size 640x480 with 2 Axes>"
            ],
            "image/png": "[encoded data removed]"
          },
          "metadata": {}
        }
      ]
    },
    {
      "cell_type": "markdown",
      "source": [
        "## **Le modèle LogisticRegression**"
      ],
      "metadata": {
        "id": "-Pgyb8wPf3fi"
      }
    },
    {
      "cell_type": "code",
      "source": [
        "from sklearn.linear_model import LogisticRegression"
      ],
      "metadata": {
        "id": "iF1xcMMjYGti"
      },
      "execution_count": null,
      "outputs": []
    },
    {
      "cell_type": "code",
      "source": [
        "# Create a logistic regression model\n",
        "model = LogisticRegression()\n",
        "\n",
        "# Fit the model to the training data\n",
        "model.fit(x_train, y_train)\n",
        "\n",
        "# Make predictions on the testing data\n",
        "y_pred = model.predict(x_test)"
      ],
      "metadata": {
        "id": "Yh5fO0TWYHd5"
      },
      "execution_count": null,
      "outputs": []
    },
    {
      "cell_type": "code",
      "source": [
        "# affichage du degré de précision de l'apprentissage\n",
        "# affichage du degré de précision du test\n",
        "train_score=model.score(x_train, y_train)*100\n",
        "test_score=model.score(x_test,y_test)*100\n",
        "print(\"Training set score: \", train_score  )\n",
        "print(\"Test set score: \" ,test_score)"
      ],
      "metadata": {
        "id": "7pT-bGNGYQd_",
        "colab": {
          "base_uri": "https://localhost:8080/"
        },
        "outputId": "fbc38fb9-645a-4f83-f8f6-8b94a2f3323d"
      },
      "execution_count": null,
      "outputs": [
        {
          "output_type": "stream",
          "name": "stdout",
          "text": [
            "Training set score:  62.583633556356155\n",
            "Test set score:  67.48952026082907\n"
          ]
        }
      ]
    },
    {
      "cell_type": "code",
      "source": [
        "accuracy = accuracy_score(y_test,y_pred)*100\n",
        "confusion_mat = confusion_matrix(y_test,y_pred)\n",
        "recall=recall_score(y_true=y_test,y_pred=y_pred, average='weighted')*100\n",
        "precision= precision_score(y_test,y_pred,average='weighted')*100"
      ],
      "metadata": {
        "id": "yAxYMQW7gNy3"
      },
      "execution_count": null,
      "outputs": []
    },
    {
      "cell_type": "code",
      "source": [
        "# affichage des résultats calculés dans l'étape 7:\n",
        "print(\"Accuracy \",accuracy)\n",
        "print(\"the recall \", recall)\n",
        "print(\"the precision  \", precision)\n",
        "print(\"Confusion Matrix\",confusion_mat)"
      ],
      "metadata": {
        "colab": {
          "base_uri": "https://localhost:8080/"
        },
        "id": "xdij8FzegQlV",
        "outputId": "af83c78d-78ec-47e8-8a93-f903357a8257"
      },
      "execution_count": null,
      "outputs": [
        {
          "output_type": "stream",
          "name": "stdout",
          "text": [
            "Accuracy  67.48952026082907\n",
            "the recall  67.48952026082907\n",
            "the precision   72.04803498929296\n",
            "Confusion Matrix [[1184  455]\n",
            " [ 243  265]]\n"
          ]
        }
      ]
    },
    {
      "cell_type": "code",
      "source": [
        "from sklearn.metrics import classification_report\n",
        "print(classification_report(y_test, y_pred))"
      ],
      "metadata": {
        "colab": {
          "base_uri": "https://localhost:8080/"
        },
        "id": "b49tJzcQjnhE",
        "outputId": "202f08dc-25b1-4890-8188-7ef9b4729fb3"
      },
      "execution_count": null,
      "outputs": [
        {
          "output_type": "stream",
          "name": "stdout",
          "text": [
            "              precision    recall  f1-score   support\n",
            "\n",
            "           0       0.83      0.72      0.77      1639\n",
            "           1       0.37      0.52      0.43       508\n",
            "\n",
            "    accuracy                           0.67      2147\n",
            "   macro avg       0.60      0.62      0.60      2147\n",
            "weighted avg       0.72      0.67      0.69      2147\n",
            "\n"
          ]
        }
      ]
    },
    {
      "cell_type": "code",
      "source": [
        "# 2 ème méthode pour afficher une matrice de confusion:\n",
        "confusion_mat\n",
        "disp = ConfusionMatrixDisplay(confusion_matrix=confusion_mat)\n",
        "disp.plot()"
      ],
      "metadata": {
        "colab": {
          "base_uri": "https://localhost:8080/",
          "height": 475
        },
        "id": "vfBnADRwgSty",
        "outputId": "8a5b8611-758b-45c6-cc02-947165621527"
      },
      "execution_count": null,
      "outputs": [
        {
          "output_type": "execute_result",
          "data": {
            "text/plain": [
              "<sklearn.metrics._plot.confusion_matrix.ConfusionMatrixDisplay at 0x7f4b9bd2a830>"
            ]
          },
          "metadata": {},
          "execution_count": 208
        },
        {
          "output_type": "display_data",
          "data": {
            "text/plain": [
              "<Figure size 640x480 with 2 Axes>"
            ],
            "image/png": "[encoded data removed]"
          },
          "metadata": {}
        }
      ]
    },
    {
      "cell_type": "markdown",
      "source": [
        "## **Le modèle DesicionTree**"
      ],
      "metadata": {
        "id": "_fsn5t5agDTl"
      }
    },
    {
      "cell_type": "code",
      "source": [
        "from sklearn.tree import DecisionTreeClassifier"
      ],
      "metadata": {
        "id": "sZJWsikLda2f"
      },
      "execution_count": null,
      "outputs": []
    },
    {
      "cell_type": "code",
      "source": [
        "# Create decision tree classifier object\n",
        "clf = DecisionTreeClassifier()\n",
        "\n",
        "# Train decision tree classifier on the training set\n",
        "clf.fit(x_train, y_train)\n",
        "\n",
        "# Predict on the testing set\n",
        "y_pred = clf.predict(x_test)"
      ],
      "metadata": {
        "id": "bsGwhRgNda6b"
      },
      "execution_count": null,
      "outputs": []
    },
    {
      "cell_type": "code",
      "source": [
        "# affichage du degré de précision de l'apprentissage\n",
        "# affichage du degré de précision du test\n",
        "train_score=clf.score(x_train, y_train)*100\n",
        "test_score=clf.score(x_test,y_test)*100\n",
        "print(\"Training set score: \", train_score  )\n",
        "print(\"Test set score: \" ,test_score)"
      ],
      "metadata": {
        "colab": {
          "base_uri": "https://localhost:8080/"
        },
        "id": "KEXfk-b3dvFN",
        "outputId": "0c6e9f85-948d-4fd0-ed44-bf48a63b64aa"
      },
      "execution_count": null,
      "outputs": [
        {
          "output_type": "stream",
          "name": "stdout",
          "text": [
            "Training set score:  99.61399897066391\n",
            "Test set score:  67.72240335351654\n"
          ]
        }
      ]
    },
    {
      "cell_type": "code",
      "source": [
        "accuracy = accuracy_score(y_test,y_pred)*100\n",
        "confusion_mat = confusion_matrix(y_test,y_pred)\n",
        "recall=recall_score(y_true=y_test,y_pred=y_pred, average='weighted')*100\n",
        "precision= precision_score(y_test,y_pred,average='weighted')*100"
      ],
      "metadata": {
        "id": "XvRtLXLxextI"
      },
      "execution_count": null,
      "outputs": []
    },
    {
      "cell_type": "code",
      "source": [
        "from sklearn.metrics import classification_report\n",
        "print(classification_report(y_test, y_pred))"
      ],
      "metadata": {
        "colab": {
          "base_uri": "https://localhost:8080/"
        },
        "id": "fc3hqpecjqED",
        "outputId": "bac73252-13f7-4a52-f5f3-66ee3e92956d"
      },
      "execution_count": null,
      "outputs": [
        {
          "output_type": "stream",
          "name": "stdout",
          "text": [
            "              precision    recall  f1-score   support\n",
            "\n",
            "           0       0.78      0.80      0.79      1639\n",
            "           1       0.30      0.27      0.28       508\n",
            "\n",
            "    accuracy                           0.68      2147\n",
            "   macro avg       0.54      0.54      0.54      2147\n",
            "weighted avg       0.67      0.68      0.67      2147\n",
            "\n"
          ]
        }
      ]
    },
    {
      "cell_type": "code",
      "source": [
        "# affichage des résultats calculés dans l'étape 7:\n",
        "print(\"Accuracy \",accuracy)\n",
        "print(\"the recall \", recall)\n",
        "print(\"the precision  \", precision)\n",
        "print(\"Confusion Matrix\",confusion_mat)"
      ],
      "metadata": {
        "colab": {
          "base_uri": "https://localhost:8080/"
        },
        "id": "6HAPX9WJe1et",
        "outputId": "9b92e7d8-af0d-446a-a866-4fea5e26d676"
      },
      "execution_count": null,
      "outputs": [
        {
          "output_type": "stream",
          "name": "stdout",
          "text": [
            "Accuracy  67.72240335351654\n",
            "the recall  67.72240335351654\n",
            "the precision   66.53046487526068\n",
            "Confusion Matrix [[1319  320]\n",
            " [ 373  135]]\n"
          ]
        }
      ]
    },
    {
      "cell_type": "code",
      "source": [
        "# 2 ème méthode pour afficher une matrice de confusion:\n",
        "confusion_mat\n",
        "disp = ConfusionMatrixDisplay(confusion_matrix=confusion_mat)\n",
        "disp.plot()"
      ],
      "metadata": {
        "colab": {
          "base_uri": "https://localhost:8080/",
          "height": 475
        },
        "id": "jZaAyUSze4Eu",
        "outputId": "1783aa53-68de-4536-dbda-e8029621a643"
      },
      "execution_count": null,
      "outputs": [
        {
          "output_type": "execute_result",
          "data": {
            "text/plain": [
              "<sklearn.metrics._plot.confusion_matrix.ConfusionMatrixDisplay at 0x7f4b7ea9c0a0>"
            ]
          },
          "metadata": {},
          "execution_count": 215
        },
        {
          "output_type": "display_data",
          "data": {
            "text/plain": [
              "<Figure size 640x480 with 2 Axes>"
            ],
            "image/png": "[encoded data removed]"
          },
          "metadata": {}
        }
      ]
    },
    {
      "cell_type": "markdown",
      "metadata": {
        "id": "uz2JcSJ24wP9"
      },
      "source": [
        "---"
      ]
    },
    {
      "cell_type": "markdown",
      "metadata": {
        "id": "1av1OuVq4-T1"
      },
      "source": [
        "---"
      ]
    }
  ],
  "metadata": {
    "colab": {
      "provenance": []
    },
    "kernelspec": {
      "display_name": "Python 3 (ipykernel)",
      "language": "python",
      "name": "python3"
    },
    "language_info": {
      "codemirror_mode": {
        "name": "ipython",
        "version": 3
      },
      "file_extension": ".py",
      "mimetype": "text/x-python",
      "name": "python",
      "nbconvert_exporter": "python",
      "pygments_lexer": "ipython3",
      "version": "3.9.13"
    }
  },
  "nbformat": 4,
  "nbformat_minor": 0
}